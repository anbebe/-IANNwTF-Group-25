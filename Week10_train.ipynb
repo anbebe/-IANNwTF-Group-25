{
  "nbformat": 4,
  "nbformat_minor": 0,
  "metadata": {
    "colab": {
      "provenance": []
    },
    "kernelspec": {
      "name": "python3",
      "display_name": "Python 3"
    },
    "language_info": {
      "name": "python"
    }
  },
  "cells": [
    {
      "cell_type": "code",
      "source": [
        "pip install -U tensorflow-text"
      ],
      "metadata": {
        "colab": {
          "base_uri": "https://localhost:8080/"
        },
        "id": "IQUubjYkcAE_",
        "outputId": "dc799a7c-d855-4977-aa50-11ff4972fdf1"
      },
      "execution_count": 23,
      "outputs": [
        {
          "output_type": "stream",
          "name": "stdout",
          "text": [
            "Looking in indexes: https://pypi.org/simple, https://us-python.pkg.dev/colab-wheels/public/simple/\n",
            "Requirement already satisfied: tensorflow-text in /usr/local/lib/python3.8/dist-packages (2.11.0)\n",
            "Requirement already satisfied: tensorflow<2.12,>=2.11.0 in /usr/local/lib/python3.8/dist-packages (from tensorflow-text) (2.11.0)\n",
            "Requirement already satisfied: tensorflow-hub>=0.8.0 in /usr/local/lib/python3.8/dist-packages (from tensorflow-text) (0.12.0)\n",
            "Requirement already satisfied: h5py>=2.9.0 in /usr/local/lib/python3.8/dist-packages (from tensorflow<2.12,>=2.11.0->tensorflow-text) (3.1.0)\n",
            "Requirement already satisfied: grpcio<2.0,>=1.24.3 in /usr/local/lib/python3.8/dist-packages (from tensorflow<2.12,>=2.11.0->tensorflow-text) (1.51.1)\n",
            "Requirement already satisfied: tensorboard<2.12,>=2.11 in /usr/local/lib/python3.8/dist-packages (from tensorflow<2.12,>=2.11.0->tensorflow-text) (2.11.2)\n",
            "Requirement already satisfied: absl-py>=1.0.0 in /usr/local/lib/python3.8/dist-packages (from tensorflow<2.12,>=2.11.0->tensorflow-text) (1.4.0)\n",
            "Requirement already satisfied: opt-einsum>=2.3.2 in /usr/local/lib/python3.8/dist-packages (from tensorflow<2.12,>=2.11.0->tensorflow-text) (3.3.0)\n",
            "Requirement already satisfied: numpy>=1.20 in /usr/local/lib/python3.8/dist-packages (from tensorflow<2.12,>=2.11.0->tensorflow-text) (1.21.6)\n",
            "Requirement already satisfied: tensorflow-io-gcs-filesystem>=0.23.1 in /usr/local/lib/python3.8/dist-packages (from tensorflow<2.12,>=2.11.0->tensorflow-text) (0.30.0)\n",
            "Requirement already satisfied: termcolor>=1.1.0 in /usr/local/lib/python3.8/dist-packages (from tensorflow<2.12,>=2.11.0->tensorflow-text) (2.2.0)\n",
            "Requirement already satisfied: libclang>=13.0.0 in /usr/local/lib/python3.8/dist-packages (from tensorflow<2.12,>=2.11.0->tensorflow-text) (15.0.6.1)\n",
            "Requirement already satisfied: six>=1.12.0 in /usr/local/lib/python3.8/dist-packages (from tensorflow<2.12,>=2.11.0->tensorflow-text) (1.15.0)\n",
            "Requirement already satisfied: google-pasta>=0.1.1 in /usr/local/lib/python3.8/dist-packages (from tensorflow<2.12,>=2.11.0->tensorflow-text) (0.2.0)\n",
            "Requirement already satisfied: protobuf<3.20,>=3.9.2 in /usr/local/lib/python3.8/dist-packages (from tensorflow<2.12,>=2.11.0->tensorflow-text) (3.19.6)\n",
            "Requirement already satisfied: wrapt>=1.11.0 in /usr/local/lib/python3.8/dist-packages (from tensorflow<2.12,>=2.11.0->tensorflow-text) (1.14.1)\n",
            "Requirement already satisfied: astunparse>=1.6.0 in /usr/local/lib/python3.8/dist-packages (from tensorflow<2.12,>=2.11.0->tensorflow-text) (1.6.3)\n",
            "Requirement already satisfied: typing-extensions>=3.6.6 in /usr/local/lib/python3.8/dist-packages (from tensorflow<2.12,>=2.11.0->tensorflow-text) (4.4.0)\n",
            "Requirement already satisfied: tensorflow-estimator<2.12,>=2.11.0 in /usr/local/lib/python3.8/dist-packages (from tensorflow<2.12,>=2.11.0->tensorflow-text) (2.11.0)\n",
            "Requirement already satisfied: keras<2.12,>=2.11.0 in /usr/local/lib/python3.8/dist-packages (from tensorflow<2.12,>=2.11.0->tensorflow-text) (2.11.0)\n",
            "Requirement already satisfied: flatbuffers>=2.0 in /usr/local/lib/python3.8/dist-packages (from tensorflow<2.12,>=2.11.0->tensorflow-text) (23.1.21)\n",
            "Requirement already satisfied: setuptools in /usr/local/lib/python3.8/dist-packages (from tensorflow<2.12,>=2.11.0->tensorflow-text) (57.4.0)\n",
            "Requirement already satisfied: gast<=0.4.0,>=0.2.1 in /usr/local/lib/python3.8/dist-packages (from tensorflow<2.12,>=2.11.0->tensorflow-text) (0.4.0)\n",
            "Requirement already satisfied: packaging in /usr/local/lib/python3.8/dist-packages (from tensorflow<2.12,>=2.11.0->tensorflow-text) (23.0)\n",
            "Requirement already satisfied: wheel<1.0,>=0.23.0 in /usr/local/lib/python3.8/dist-packages (from astunparse>=1.6.0->tensorflow<2.12,>=2.11.0->tensorflow-text) (0.38.4)\n",
            "Requirement already satisfied: tensorboard-data-server<0.7.0,>=0.6.0 in /usr/local/lib/python3.8/dist-packages (from tensorboard<2.12,>=2.11->tensorflow<2.12,>=2.11.0->tensorflow-text) (0.6.1)\n",
            "Requirement already satisfied: google-auth<3,>=1.6.3 in /usr/local/lib/python3.8/dist-packages (from tensorboard<2.12,>=2.11->tensorflow<2.12,>=2.11.0->tensorflow-text) (2.16.0)\n",
            "Requirement already satisfied: requests<3,>=2.21.0 in /usr/local/lib/python3.8/dist-packages (from tensorboard<2.12,>=2.11->tensorflow<2.12,>=2.11.0->tensorflow-text) (2.25.1)\n",
            "Requirement already satisfied: google-auth-oauthlib<0.5,>=0.4.1 in /usr/local/lib/python3.8/dist-packages (from tensorboard<2.12,>=2.11->tensorflow<2.12,>=2.11.0->tensorflow-text) (0.4.6)\n",
            "Requirement already satisfied: werkzeug>=1.0.1 in /usr/local/lib/python3.8/dist-packages (from tensorboard<2.12,>=2.11->tensorflow<2.12,>=2.11.0->tensorflow-text) (1.0.1)\n",
            "Requirement already satisfied: tensorboard-plugin-wit>=1.6.0 in /usr/local/lib/python3.8/dist-packages (from tensorboard<2.12,>=2.11->tensorflow<2.12,>=2.11.0->tensorflow-text) (1.8.1)\n",
            "Requirement already satisfied: markdown>=2.6.8 in /usr/local/lib/python3.8/dist-packages (from tensorboard<2.12,>=2.11->tensorflow<2.12,>=2.11.0->tensorflow-text) (3.4.1)\n",
            "Requirement already satisfied: pyasn1-modules>=0.2.1 in /usr/local/lib/python3.8/dist-packages (from google-auth<3,>=1.6.3->tensorboard<2.12,>=2.11->tensorflow<2.12,>=2.11.0->tensorflow-text) (0.2.8)\n",
            "Requirement already satisfied: rsa<5,>=3.1.4 in /usr/local/lib/python3.8/dist-packages (from google-auth<3,>=1.6.3->tensorboard<2.12,>=2.11->tensorflow<2.12,>=2.11.0->tensorflow-text) (4.9)\n",
            "Requirement already satisfied: cachetools<6.0,>=2.0.0 in /usr/local/lib/python3.8/dist-packages (from google-auth<3,>=1.6.3->tensorboard<2.12,>=2.11->tensorflow<2.12,>=2.11.0->tensorflow-text) (5.3.0)\n",
            "Requirement already satisfied: requests-oauthlib>=0.7.0 in /usr/local/lib/python3.8/dist-packages (from google-auth-oauthlib<0.5,>=0.4.1->tensorboard<2.12,>=2.11->tensorflow<2.12,>=2.11.0->tensorflow-text) (1.3.1)\n",
            "Requirement already satisfied: importlib-metadata>=4.4 in /usr/local/lib/python3.8/dist-packages (from markdown>=2.6.8->tensorboard<2.12,>=2.11->tensorflow<2.12,>=2.11.0->tensorflow-text) (6.0.0)\n",
            "Requirement already satisfied: idna<3,>=2.5 in /usr/local/lib/python3.8/dist-packages (from requests<3,>=2.21.0->tensorboard<2.12,>=2.11->tensorflow<2.12,>=2.11.0->tensorflow-text) (2.10)\n",
            "Requirement already satisfied: urllib3<1.27,>=1.21.1 in /usr/local/lib/python3.8/dist-packages (from requests<3,>=2.21.0->tensorboard<2.12,>=2.11->tensorflow<2.12,>=2.11.0->tensorflow-text) (1.24.3)\n",
            "Requirement already satisfied: certifi>=2017.4.17 in /usr/local/lib/python3.8/dist-packages (from requests<3,>=2.21.0->tensorboard<2.12,>=2.11->tensorflow<2.12,>=2.11.0->tensorflow-text) (2022.12.7)\n",
            "Requirement already satisfied: chardet<5,>=3.0.2 in /usr/local/lib/python3.8/dist-packages (from requests<3,>=2.21.0->tensorboard<2.12,>=2.11->tensorflow<2.12,>=2.11.0->tensorflow-text) (4.0.0)\n",
            "Requirement already satisfied: zipp>=0.5 in /usr/local/lib/python3.8/dist-packages (from importlib-metadata>=4.4->markdown>=2.6.8->tensorboard<2.12,>=2.11->tensorflow<2.12,>=2.11.0->tensorflow-text) (3.12.0)\n",
            "Requirement already satisfied: pyasn1<0.5.0,>=0.4.6 in /usr/local/lib/python3.8/dist-packages (from pyasn1-modules>=0.2.1->google-auth<3,>=1.6.3->tensorboard<2.12,>=2.11->tensorflow<2.12,>=2.11.0->tensorflow-text) (0.4.8)\n",
            "Requirement already satisfied: oauthlib>=3.0.0 in /usr/local/lib/python3.8/dist-packages (from requests-oauthlib>=0.7.0->google-auth-oauthlib<0.5,>=0.4.1->tensorboard<2.12,>=2.11->tensorflow<2.12,>=2.11.0->tensorflow-text) (3.2.2)\n"
          ]
        }
      ]
    },
    {
      "cell_type": "code",
      "source": [
        "import tensorflow as tf\n",
        "import tensorflow_text as tf_txt\n",
        "from tensorflow.keras import layers\n",
        "\n",
        "from collections import Counter\n",
        "import numpy as np\n",
        "import math\n",
        "\n",
        "import tqdm\n",
        "import datetime"
      ],
      "metadata": {
        "id": "ePxI2cgS4lG7"
      },
      "execution_count": 24,
      "outputs": []
    },
    {
      "cell_type": "code",
      "source": [
        "# bash code to mount the drive\n",
        "import os\n",
        "from google.colab import drive\n",
        "#drive.mount (\"/content/drive\")\n",
        "#os.chdir(\"drive/MyDrive/Colab Notebooks/Week10\")"
      ],
      "metadata": {
        "id": "ViMXpMSB22Hq"
      },
      "execution_count": 25,
      "outputs": []
    },
    {
      "cell_type": "code",
      "source": [
        "bible = open('/content/drive/MyDrive/Colab Notebooks/Week10/bible.txt', 'r').read()"
      ],
      "metadata": {
        "id": "ha7gu-Ka26II"
      },
      "execution_count": 26,
      "outputs": []
    },
    {
      "cell_type": "markdown",
      "source": [
        "**Word Embeddings**"
      ],
      "metadata": {
        "id": "p4qbuZba3FJU"
      }
    },
    {
      "cell_type": "markdown",
      "source": [
        "**Preprocessing**"
      ],
      "metadata": {
        "id": "xqtmUrMd3H-q"
      }
    },
    {
      "cell_type": "code",
      "source": [
        "def normalizetext(text):\n",
        "  notwanted = '. ; , : ? ! -'\n",
        "  notwanted = notwanted.split()\n",
        "  \n",
        "  text = text.replace('\\n', ' ')\n",
        "  for w in notwanted:\n",
        "    text = text.replace(w, ' ')\n",
        "  \n",
        "  text = text.lower()\n",
        "  return text"
      ],
      "metadata": {
        "id": "VSSQVk_23B86"
      },
      "execution_count": 27,
      "outputs": []
    },
    {
      "cell_type": "code",
      "source": [
        "def subsample_formula(count_w, total, s=0.001):\n",
        "  z_w = count_w / total\n",
        "  return min(1, (np.sqrt(z_w/s)+1) * s / z_w)"
      ],
      "metadata": {
        "id": "FC-XH2fF3K9C"
      },
      "execution_count": 28,
      "outputs": []
    },
    {
      "cell_type": "code",
      "source": [
        "def subsample(tokens):\n",
        "  dic = {}\n",
        "  dic_reverse = {}\n",
        "\n",
        "  counter = Counter(tokens.numpy())\n",
        "  total = sum(counter.values())\n",
        "\n",
        "  probabilities = {}\n",
        "  numbers = {}\n",
        "\n",
        "  for n, i in enumerate(counter):\n",
        "    p = subsample_formula(counter[i], total)\n",
        "    dic[i] = n\n",
        "    dic_reverse[n] = i\n",
        "    if p != 1:\n",
        "      probabilities[i] = p\n",
        "  \n",
        "  subsampled_tokens = []\n",
        "  \n",
        "  for i in tokens:\n",
        "    i = i.numpy()\n",
        "    if not((i in probabilities) and (probabilities[i] < np.random.rand())):\n",
        "      subsampled_tokens.append(dic[i])\n",
        "    \n",
        "  return subsampled_tokens, dic, dic_reverse"
      ],
      "metadata": {
        "id": "kzZDw1pg3S3Q"
      },
      "execution_count": 29,
      "outputs": []
    },
    {
      "cell_type": "code",
      "source": [
        "def create_data(text, c = 4):\n",
        "  text = normalizetext(text)\n",
        "\n",
        "  tokenizer = tf_txt.UnicodeScriptTokenizer()\n",
        "  tokens = tokenizer.tokenize(normalizetext(text))\n",
        "\n",
        "  tokens, dic, dic_reverse = subsample(tokens)\n",
        "\n",
        "  input = []\n",
        "  targets = {}\n",
        "\n",
        "  for i, w in enumerate(tokens):\n",
        "    input.append(w)\n",
        "    temp = []\n",
        "    for n in range(i-c, i+c+1):\n",
        "      if n >= 0 and n < len(tokens) and n != i:\n",
        "        temp.append(tokens[n])\n",
        "    \n",
        "    targets[i] = temp\n",
        "\n",
        "  return tf.data.Dataset.from_tensor_slices(input), targets, dic, dic_reverse"
      ],
      "metadata": {
        "id": "PduU-y483WBc"
      },
      "execution_count": 30,
      "outputs": []
    },
    {
      "cell_type": "code",
      "source": [
        "dataset, targets, dic, dic_reverse = create_data(bible)"
      ],
      "metadata": {
        "id": "7ebEZ3So3fyp"
      },
      "execution_count": 31,
      "outputs": []
    },
    {
      "cell_type": "code",
      "source": [
        "BATCH_SIZE = 128 \n",
        "ds = dataset.batch(128).prefetch(10);"
      ],
      "metadata": {
        "id": "CxpBmQqY4Z2p"
      },
      "execution_count": 33,
      "outputs": []
    },
    {
      "cell_type": "markdown",
      "source": [
        "**Model**"
      ],
      "metadata": {
        "id": "fEoSONGLqKtc"
      }
    },
    {
      "cell_type": "code",
      "source": [
        "class skipgram(tf.keras.layers.Layer):\n",
        "\n",
        "  def __init__(self, vocabsize, embsize=64, neg_samples=500):\n",
        "    super(skipgram, self).__init__()\n",
        "    self.embsize = embsize\n",
        "    self.vocabsize = vocabsize\n",
        "    self.neg_samples = neg_samples\n",
        "\n",
        "  def build(self, _):\n",
        "    self.w_matrix = self.add_weight(shape = (self.vocabsize, self.embsize),initializer='random_normal', trainable=True)\n",
        "    self.w_bias = self.add_weight(shape = [self.embsize],initializer='random_normal', trainable=True)\n",
        "\n",
        "    self.s_matrix = self.add_weight(shape = (self.vocabsize, self.embsize),initializer='random_normal', trainable=True)\n",
        "    self.s_bias = self.add_weight(shape = [self.vocabsize],initializer='random_normal', trainable=True)\n",
        "\n",
        "  def embedding(self, input):\n",
        "    embedding = tf.nn.embedding_lookup(self.w_matrix, input)+self.w_bias\n",
        "    return embedding\n",
        "\n",
        "  def call(self, input, target):\n",
        "    embedding = tf.nn.embedding_lookup(self.w_matrix, input)+self.w_bias\n",
        "\n",
        "    loss = tf.nn.nce_loss(self.s_matrix, \n",
        "                          self.s_bias, \n",
        "                          target, \n",
        "                          embedding, \n",
        "                          num_sampled = self.neg_samples, \n",
        "                          num_classes = self.vocabsize)\n",
        "    loss = tf.reduce_mean(loss)\n",
        "\n",
        "    return loss\n"
      ],
      "metadata": {
        "id": "dYv46JxE4bEw"
      },
      "execution_count": 34,
      "outputs": []
    },
    {
      "cell_type": "markdown",
      "source": [
        "**Training**"
      ],
      "metadata": {
        "id": "7nfu0k20FOIn"
      }
    },
    {
      "cell_type": "code",
      "source": [
        "def get_targets(word_n, targets, length=1):\n",
        "  target = []\n",
        "  \n",
        "  for i in range(word_n,word_n+length):\n",
        "    target.append(np.random.choice(targets[i]))\n",
        "  return tf.expand_dims(target, -1)"
      ],
      "metadata": {
        "id": "JTQVYd59bWHv"
      },
      "execution_count": 35,
      "outputs": []
    },
    {
      "cell_type": "code",
      "source": [
        "def cosine_similarity(model, word, k= 5):\n",
        "  emb_word = model.embedding(word)\n",
        "  nearest_n = {}\n",
        "\n",
        "  for i in dic_reverse:\n",
        "    if i != word:\n",
        "      emb_word2 = model.embedding(i)\n",
        "      similarity = np.dot(emb_word, emb_word2)/(np.linalg.norm(emb_word)*np.linalg.norm(emb_word2))\n",
        "\n",
        "      if len(nearest_n) < k: nearest_n[similarity] = i\n",
        "      elif similarity > min(nearest_n): \n",
        "        del nearest_n[min(nearest_n)]\n",
        "        nearest_n[similarity] = i\n",
        "\n",
        "  text = b''.join(dic_reverse[w] + b', ' for w in nearest_n.values())\n",
        "  return tf.constant(text)"
      ],
      "metadata": {
        "id": "ZkGzwlzCFfEn"
      },
      "execution_count": 36,
      "outputs": []
    },
    {
      "cell_type": "code",
      "source": [
        "@tf.function\n",
        "def train_step(model, input, target, optimizer):\n",
        "\n",
        "  with tf.GradientTape() as tape:\n",
        "    loss = model(input, target)\n",
        "\n",
        "    gradients = tape.gradient(loss, model.trainable_variables)\n",
        "    optimizer.apply_gradients(zip(gradients, model.trainable_variables))\n",
        "  return loss"
      ],
      "metadata": {
        "id": "Y9DZ4JfDFg8X"
      },
      "execution_count": 37,
      "outputs": []
    },
    {
      "cell_type": "code",
      "source": [
        "%load_ext tensorboard"
      ],
      "metadata": {
        "colab": {
          "base_uri": "https://localhost:8080/"
        },
        "id": "plRcPhItFkV3",
        "outputId": "ea74cd2a-94a3-4b62-e48f-cc88a5748192"
      },
      "execution_count": 38,
      "outputs": [
        {
          "output_type": "stream",
          "name": "stdout",
          "text": [
            "The tensorboard extension is already loaded. To reload it, use:\n",
            "  %reload_ext tensorboard\n"
          ]
        }
      ]
    },
    {
      "cell_type": "code",
      "source": [
        "file_path = \"/content/drive/MyDrive/Colab Notebooks/Week10/Week10_train\"\n",
        "\n",
        "summary_writer = tf.summary.create_file_writer(file_path)"
      ],
      "metadata": {
        "id": "-kE-KGBgFlse"
      },
      "execution_count": 39,
      "outputs": []
    },
    {
      "cell_type": "code",
      "source": [
        "test_words = [b'holy', b'father', b'wine', b'poison',b'death',b'hope', b'killed']\n",
        "test_words = [ dic[w] for w in test_words]"
      ],
      "metadata": {
        "id": "nYRxXYf6FnkH"
      },
      "execution_count": 40,
      "outputs": []
    },
    {
      "cell_type": "code",
      "source": [
        "tf.keras.backend.clear_session()\n",
        "\n",
        "epochs = 10\n",
        "learning_rate = 0.001\n",
        "\n",
        "model = skipgram(len(dic))\n",
        "optimizer = tf.optimizers.Adam(learning_rate)\n",
        "\n",
        "train_losses = []\n",
        "\n",
        "for epoch in range(epochs):\n",
        "  epoch_loss_agg = []\n",
        " \n",
        "  for i, batch in enumerate(ds):\n",
        "    labels = get_targets(i*BATCH_SIZE, targets, batch.shape[0])\n",
        "    train_loss = train_step(model, batch, labels, optimizer)\n",
        "    epoch_loss_agg.append(train_loss)\n",
        "\n",
        "  epoch_loss_agg = tf.reduce_mean(epoch_loss_agg)\n",
        "\n",
        "  train_losses.append(epoch_loss_agg)\n",
        "  \n",
        "  with summary_writer.as_default():\n",
        "    tf.summary.scalar(name='train_loss', data=epoch_loss_agg, step=epoch)\n",
        "    for w in test_words:\n",
        "      word = dic_reverse[w].decode('UTF-8')\n",
        "      tf.summary.text(name = f'nearest_neighbours_of_{word}', data = cosine_similarity(model, w), step = epoch)\n",
        "\n",
        "  print(f'Epoch: {str(epoch)} ending with training loss of {np.round(epoch_loss_agg,4)}')\n"
      ],
      "metadata": {
        "colab": {
          "base_uri": "https://localhost:8080/"
        },
        "id": "A1TEABw3Fo__",
        "outputId": "1b1d08e6-45f6-4cdc-ae4d-40bec76fa2b8"
      },
      "execution_count": 41,
      "outputs": [
        {
          "output_type": "stream",
          "name": "stdout",
          "text": [
            "Epoch: 0 ending with training loss of 110.44779968261719\n",
            "Epoch: 1 ending with training loss of 6.44189977645874\n",
            "Epoch: 2 ending with training loss of 6.43179988861084\n",
            "Epoch: 3 ending with training loss of 6.438399791717529\n",
            "Epoch: 4 ending with training loss of 6.452899932861328\n",
            "Epoch: 5 ending with training loss of 6.466000080108643\n",
            "Epoch: 6 ending with training loss of 6.449100017547607\n",
            "Epoch: 7 ending with training loss of 6.4822998046875\n",
            "Epoch: 8 ending with training loss of 6.509200096130371\n",
            "Epoch: 9 ending with training loss of 6.523399829864502\n"
          ]
        }
      ]
    },
    {
      "cell_type": "code",
      "source": [],
      "metadata": {
        "id": "zKgIc_ReFsYo"
      },
      "execution_count": 41,
      "outputs": []
    }
  ]
}