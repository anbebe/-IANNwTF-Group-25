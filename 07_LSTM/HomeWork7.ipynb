{
  "cells": [
    {
      "cell_type": "code",
      "execution_count": 1,
      "metadata": {
        "id": "FXtBNnate5Ae"
      },
      "outputs": [
        {
          "name": "stderr",
          "output_type": "stream",
          "text": [
            "2022-12-30 12:41:17.920585: I tensorflow/core/platform/cpu_feature_guard.cc:193] This TensorFlow binary is optimized with oneAPI Deep Neural Network Library (oneDNN) to use the following CPU instructions in performance-critical operations:  AVX2 AVX512F AVX512_VNNI FMA\n",
            "To enable them in other operations, rebuild TensorFlow with the appropriate compiler flags.\n",
            "2022-12-30 12:41:18.339769: I tensorflow/core/util/port.cc:104] oneDNN custom operations are on. You may see slightly different numerical results due to floating-point round-off errors from different computation orders. To turn them off, set the environment variable `TF_ENABLE_ONEDNN_OPTS=0`.\n",
            "2022-12-30 12:41:18.375563: W tensorflow/compiler/xla/stream_executor/platform/default/dso_loader.cc:64] Could not load dynamic library 'libcudart.so.11.0'; dlerror: libcudart.so.11.0: cannot open shared object file: No such file or directory\n",
            "2022-12-30 12:41:18.375582: I tensorflow/compiler/xla/stream_executor/cuda/cudart_stub.cc:29] Ignore above cudart dlerror if you do not have a GPU set up on your machine.\n",
            "2022-12-30 12:41:20.011327: W tensorflow/compiler/xla/stream_executor/platform/default/dso_loader.cc:64] Could not load dynamic library 'libnvinfer.so.7'; dlerror: libnvinfer.so.7: cannot open shared object file: No such file or directory\n",
            "2022-12-30 12:41:20.011401: W tensorflow/compiler/xla/stream_executor/platform/default/dso_loader.cc:64] Could not load dynamic library 'libnvinfer_plugin.so.7'; dlerror: libnvinfer_plugin.so.7: cannot open shared object file: No such file or directory\n",
            "2022-12-30 12:41:20.011406: W tensorflow/compiler/tf2tensorrt/utils/py_utils.cc:38] TF-TRT Warning: Cannot dlopen some TensorRT libraries. If you would like to use Nvidia GPU with TensorRT, please make sure the missing libraries mentioned above are installed properly.\n"
          ]
        }
      ],
      "source": [
        "#!pip install keras_cv\n",
        "\n",
        "import tensorflow as tf\n",
        "import tensorflow_datasets as tfds\n",
        "from datetime import datetime\n",
        "import matplotlib.pyplot as plt\n",
        "import numpy as np\n",
        "import tqdm\n",
        "\n",
        "%load_ext tensorboard"
      ]
    },
    {
      "cell_type": "markdown",
      "metadata": {
        "id": "Lwd4Y9cPX02b"
      },
      "source": [
        "### Prepare the Dataset"
      ]
    },
    {
      "cell_type": "code",
      "execution_count": 4,
      "metadata": {
        "id": "V6YBtArxgrwB"
      },
      "outputs": [],
      "source": [
        "#1. get mnist from tensorflow datasets\n",
        "mnist = tfds.load(\"mnist\", split=[\"train\",\"test\"], as_supervised=True)\n",
        "train_ds = mnist[0]\n",
        "val_ds = mnist[1]\n",
        "\n",
        "def cumsum_dataset(ds, seq_len):\n",
        "  ds = ds.map(lambda x, t: tf.cast(t, dtype=tf.dtypes.int32))\n",
        "  ds = ds.window(seq_len)\n",
        "  def alternating_scan_function(state, elem):\n",
        "    old_sign = state\n",
        "    new_sign = old_sign*-1\n",
        "    signed_target = elem*old_sign\n",
        "    out_elem = signed_target\n",
        "    new_state = new_sign\n",
        "    return new_state, out_elem\n",
        "  ds = ds.map(lambda sub_ds: sub_ds.scan(initial_state=1, scan_func=alternating_scan_function))\n",
        "  def scan_cum_sum_function(state, elem):\n",
        "    sum_including_this_elem = state+elem\n",
        "    return sum_including_this_elem, sum_including_this_elem\n",
        "  ds = ds.map(lambda sub_dataset: sub_dataset.scan(initial_state=0, scan_func=scan_cum_sum_function))\n",
        "  ds = ds.map(lambda sub_dataset: sub_dataset.batch(seq_len).get_single_element())\n",
        "  return ds\n",
        "\n",
        "\n",
        "#2. Preproces the data using the map method or scan\n",
        "def preprocess(data, batch_size, sequence_length):\n",
        "  data = data.map(lambda x, t: (tf.cast(x, dtype=tf.float32)/255., t))\n",
        "  ds = data.batch(sequence_length)\n",
        "  targets = data.apply(lambda dataset: cumsum_dataset(dataset, sequence_length))\n",
        "  ds = tf.data.Dataset.zip((ds, targets))\n",
        "  ds = ds.map(lambda img, target: (img[0], target))\n",
        "  ds = ds.shuffle(2000).batch(batch_size)\n",
        "  ds = ds.prefetch(tf.data.AUTOTUNE)\n",
        "\n",
        "  return ds\n",
        "\n",
        "train_ds = preprocess(train_ds, batch_size=32, sequence_length=5)\n",
        "val_ds = preprocess(val_ds, batch_size=32, sequence_length=5)"
      ]
    },
    {
      "cell_type": "code",
      "execution_count": 5,
      "metadata": {
        "colab": {
          "base_uri": "https://localhost:8080/",
          "height": 254
        },
        "id": "O73JfrjMC7Mo",
        "outputId": "ab8503e9-2e3e-4b12-fd42-eb495da81913"
      },
      "outputs": [
        {
          "name": "stdout",
          "output_type": "stream",
          "text": [
            "(32, 5)\n",
            "(32, 5, 28, 28, 1)\n",
            "tf.Tensor([ 0 -2  3 -4 -1], shape=(5,), dtype=int32)\n"
          ]
        },
        {
          "name": "stderr",
          "output_type": "stream",
          "text": [
            "2022-12-30 12:42:10.288844: W tensorflow/core/kernels/data/cache_dataset_ops.cc:856] The calling iterator did not fully read the dataset being cached. In order to avoid unexpected truncation of the dataset, the partially cached contents of the dataset  will be discarded. This can happen if you have an input pipeline similar to `dataset.cache().take(k).repeat()`. You should use `dataset.take(k).cache().repeat()` instead.\n",
            "2022-12-30 12:42:10.298049: W tensorflow/core/kernels/data/cache_dataset_ops.cc:856] The calling iterator did not fully read the dataset being cached. In order to avoid unexpected truncation of the dataset, the partially cached contents of the dataset  will be discarded. This can happen if you have an input pipeline similar to `dataset.cache().take(k).repeat()`. You should use `dataset.take(k).cache().repeat()` instead.\n"
          ]
        },
        {
          "data": {
            "text/plain": [
              "<Figure size 432x288 with 0 Axes>"
            ]
          },
          "metadata": {},
          "output_type": "display_data"
        },
        {
          "data": {
            "image/png": "[encoded data removed]",
            "text/plain": [
              "<Figure size 432x288 with 5 Axes>"
            ]
          },
          "metadata": {
            "needs_background": "light"
          },
          "output_type": "display_data"
        }
      ],
      "source": [
        "for img1, label in train_ds.take(1):\n",
        "  print(label.shape)\n",
        "  print(img1.shape)\n",
        "  plt.figure()\n",
        "  f, axarr = plt.subplots(5,1) \n",
        "  axarr[0].imshow(img1[0][0].numpy().squeeze())\n",
        "  axarr[1].imshow(img1[0][1].numpy().squeeze())\n",
        "  axarr[2].imshow(img1[0][2].numpy().squeeze())\n",
        "  axarr[3].imshow(img1[0][3].numpy().squeeze())\n",
        "  axarr[4].imshow(img1[0][4].numpy().squeeze())\n",
        "  print(label[0])"
      ]
    },
    {
      "cell_type": "markdown",
      "metadata": {
        "id": "-xZPKh8bX7Ly"
      },
      "source": [
        "### Optimise your model"
      ]
    },
    {
      "cell_type": "code",
      "execution_count": 6,
      "metadata": {},
      "outputs": [],
      "source": [
        "class RNNCell(tf.keras.layers.AbstractRNNCell):\n",
        "\n",
        "    def __init__(self, recurrent_units_1, recurrent_units_2, **kwargs):\n",
        "        super().__init__(**kwargs)\n",
        "\n",
        "        self.recurrent_units_1 = recurrent_units_1 # hidden state units\n",
        "        self.recurrent_units_2 = recurrent_units_2 # cell state units\n",
        "        \n",
        "        self.linear_1 = tf.keras.layers.Dense(recurrent_units_1)\n",
        "        self.linear_2 = tf.keras.layers.Dense(recurrent_units_2)\n",
        "        \n",
        "        # forget gate\n",
        "        self.forget_gate = tf.keras.layers.Dense(recurrent_units_1, \n",
        "                                                       kernel_initializer= tf.keras.initializers.Orthogonal(\n",
        "                                                           gain=1.0, seed=None),\n",
        "                                                       activation='sigmoid')\n",
        "        # layer normalization for trainability\n",
        "        self.layer_norm_1 = tf.keras.layers.LayerNormalization()\n",
        "        \n",
        "        # input gate\n",
        "        self.input_gate = tf.keras.layers.Dense(recurrent_units_1, \n",
        "                                                       kernel_initializer= tf.keras.initializers.Orthogonal(\n",
        "                                                           gain=1.0, seed=None), \n",
        "                                                       activation='sigmoid')\n",
        "        # cell-state candidates\n",
        "        self.cellstate_candidates = tf.keras.layers.Dense(recurrent_units_1, \n",
        "                                                       kernel_initializer= tf.keras.initializers.Orthogonal(\n",
        "                                                           gain=1.0, seed=None), \n",
        "                                                       activation=tf.nn.tanh)\n",
        "        # output gate                                               \n",
        "        self.output_gate = tf.keras.layers.Dense(recurrent_units_1, \n",
        "                                                       kernel_initializer= tf.keras.initializers.Orthogonal(\n",
        "                                                           gain=1.0, seed=None), \n",
        "                                                       activation='sigmoid')\n",
        "\n",
        "        # layer normalization for trainability\n",
        "        self.layer_norm_2 = tf.keras.layers.LayerNormalization()\n",
        "    \n",
        "    @property\n",
        "    def state_size(self):\n",
        "        return [tf.TensorShape([self.recurrent_units_1]), \n",
        "                tf.TensorShape([self.recurrent_units_2])]\n",
        "    @property\n",
        "    def output_size(self):\n",
        "        return [tf.TensorShape([self.recurrent_units_2])]\n",
        "    \n",
        "    def get_initial_state(self, inputs=None, batch_size=None, dtype=None):\n",
        "        return [tf.zeros([self.recurrent_units_1]), \n",
        "                tf.zeros([self.recurrent_units_2])]\n",
        "\n",
        "    def call(self, inputs, states):\n",
        "        # unpack the states\n",
        "        hidden_state = states[0]\n",
        "        cell_state = states[1]\n",
        "        \n",
        "        # linearly project input\n",
        "        x = self.linear_1(inputs) + hidden_state\n",
        "        \n",
        "        # apply forget gate\n",
        "        forget_candidates = self.forget_gate(x)\n",
        "        # apply layer norm\n",
        "        #x = self.layer_norm_1(new_hidden_state)\n",
        "\n",
        "        # apply input gate\n",
        "        new_input = self.input_gate(x)\n",
        "        new_candidates = self.cellstate_candidates(x)\n",
        "        # apply layer norm\n",
        "        #x = self.layer_norm_1(new_hidden_state)\n",
        "        \n",
        "        new_cell_state = forget_candidates * cell_state + new_input * new_candidates\n",
        "\n",
        "        # output gate\n",
        "        output= self.output_gate(x)\n",
        "        new_hidden_state = output * tf.nn.tanh(new_cell_state)\n",
        "        \n",
        "        # return output and the list of new states of the layers\n",
        "        return x, [new_hidden_state, new_cell_state]\n",
        "    \n",
        "    def get_config(self):\n",
        "        return {\"recurrent_units_1\": self.recurrent_units_1, \n",
        "                \"recurrent_units_2\": self.recurrent_units_2}"
      ]
    },
    {
      "cell_type": "code",
      "execution_count": 7,
      "metadata": {
        "id": "_ZD1T-AUXFXr"
      },
      "outputs": [],
      "source": [
        "class CNN_LSTMModel(tf.keras.Model):\n",
        "\n",
        "  #1 Constructor\n",
        "  def __init__(self, batch_size, sequence_len):\n",
        "    super(CNN_LSTMModel, self).__init__()\n",
        "    #optimizer, loss function and metrics\n",
        "    self.optimizer = tf.keras.optimizers.Adam(learning_rate=1e-3)\n",
        "    self.loss = tf.keras.losses.MeanAbsoluteError()\n",
        "    self.metrics_list = [\n",
        "                        tf.keras.metrics.MeanAbsoluteError(name=\"loss\")\n",
        "                        #tf.keras.metrics.Accuracy(name=\"acc\")\n",
        "                       ]\n",
        "\n",
        "    input_shape = (batch_size, sequence_len, 28, 28, 1)\n",
        "\n",
        "    self.rnn_cell = RNNCell(recurrent_units_1=24,\n",
        "                                recurrent_units_2=24)\n",
        "        \n",
        "\n",
        "    self.layer_list = [\n",
        "      tf.keras.layers.Conv2D(filters=32, kernel_size=3, padding='same', activation='relu', input_shape=input_shape[2:]),\n",
        "      tf.keras.layers.TimeDistributed(tf.keras.layers.BatchNormalization()),\n",
        "      tf.keras.layers.Conv2D(filters=32, kernel_size=3, padding='same', activation='relu', input_shape=input_shape[2:]),\n",
        "      tf.keras.layers.TimeDistributed(tf.keras.layers.BatchNormalization()),\n",
        "      tf.keras.layers.TimeDistributed(tf.keras.layers.MaxPooling2D(pool_size=2, strides=2)),\n",
        "      tf.keras.layers.Conv2D(filters=64, kernel_size=3, padding='same', activation='relu', input_shape=input_shape[2:]),\n",
        "      tf.keras.layers.TimeDistributed(tf.keras.layers.BatchNormalization()),\n",
        "      tf.keras.layers.Conv2D(filters=64, kernel_size=3, padding='same', activation='relu', input_shape=input_shape[2:]),\n",
        "      tf.keras.layers.TimeDistributed(tf.keras.layers.BatchNormalization()),\n",
        "      tf.keras.layers.TimeDistributed(tf.keras.layers.GlobalAvgPool2D()),\n",
        "      tf.keras.layers.Dense(24, activation='softmax'),\n",
        "      tf.keras.layers.RNN(self.rnn_cell, return_sequences=True, unroll=True),\n",
        "      tf.keras.layers.Dense(1)\n",
        "    ]\n",
        "\n",
        "    #2. call method (forward computation)\n",
        "  def call(self, x, training=False):\n",
        "      for layer in self.layer_list[:-1]:\n",
        "        x = layer(x)\n",
        "      return self.layer_list[-1](x)\n",
        "\n",
        "  #3. metrics property\n",
        "  @property\n",
        "  def metrics(self):\n",
        "    # return a list with all metrics in the model\n",
        "    return self.metrics_list\n",
        "\n",
        "\n",
        "  #4 reset all metrics object\n",
        "  def reset_metrics(self):\n",
        "    for metric in self.metrics:\n",
        "      metric.reset_states()\n",
        "\n",
        "  def train_step(self, data):\n",
        "    sequence, label = data\n",
        "    with tf.GradientTape() as tape:\n",
        "      output = self(sequence, training=True)\n",
        "      #loss = self.compiled_loss(label, output, regularization_losses=self.losses)\n",
        "      loss = self.loss(label, output)\n",
        "    \n",
        "    gradients = tape.gradient(loss, self.trainable_variables)\n",
        "    self.optimizer.apply_gradients(zip(gradients, self.trainable_variables))\n",
        "\n",
        "    #update metrics\n",
        "    self.metrics[0].update_state(label, output)\n",
        "    #self.metrics[1].update_state(label, output)\n",
        "    return {m.name : m.result() for m in self.metrics}\n",
        "\n",
        "  def test_step(self, data, return_predictions=False):\n",
        "    sequence, label = data\n",
        "    output = self(sequence, training=False)\n",
        "    if return_predictions:\n",
        "      print(output[0])\n",
        "    #loss = self.compiled_loss(label, output, regularization_losses=self.losses)\n",
        "    loss = self.loss(label, output)\n",
        "    self.metrics[0].update_state(label, output)\n",
        "    #self.metrics[1].update_state(label, output)\n",
        "    return {m.name : m.result()  for m in self.metrics}"
      ]
    },
    {
      "cell_type": "code",
      "execution_count": 8,
      "metadata": {
        "id": "adoxB356K3i7"
      },
      "outputs": [],
      "source": [
        "current_time = datetime.now().strftime(\"%Y%m%d-%H%M%S\")\n",
        "train_log_path = f\"logs/train/\"\n",
        "val_log_path = f\"logs/val/\"\n",
        "train_summary_writer = tf.summary.create_file_writer(train_log_path + current_time)\n",
        "val_summary_writer = tf.summary.create_file_writer(val_log_path + current_time)"
      ]
    },
    {
      "cell_type": "code",
      "execution_count": 9,
      "metadata": {},
      "outputs": [],
      "source": [
        "EXPERIMENT_NAME = \"RNN_noise\"\n",
        "current_time = datetime.now().strftime(\"%Y%m%d-%H%M%S\")\n",
        "logging_callback = tf.keras.callbacks.TensorBoard(log_dir=f\"./logs/{EXPERIMENT_NAME}/{current_time}\")"
      ]
    },
    {
      "cell_type": "code",
      "execution_count": 10,
      "metadata": {},
      "outputs": [],
      "source": [
        "model = CNN_LSTMModel(batch_size=32, sequence_len=5)\n",
        "optimizer = tf.keras.optimizers.Adam(learning_rate=1e-3)\n",
        "loss = tf.keras.losses.MeanSquaredError()\n",
        "\n",
        "# compile the model (here, adding a loss function and an optimizer)\n",
        "model.compile(optimizer = optimizer, loss=loss)"
      ]
    },
    {
      "cell_type": "code",
      "execution_count": 11,
      "metadata": {},
      "outputs": [
        {
          "name": "stdout",
          "output_type": "stream",
          "text": [
            "Epoch 1/50\n"
          ]
        },
        {
          "ename": "ValueError",
          "evalue": "in user code:\n\n    File \"/home/annalena/anaconda3/lib/python3.9/site-packages/keras/engine/training.py\", line 1249, in train_function  *\n        return step_function(self, iterator)\n    File \"/home/annalena/anaconda3/lib/python3.9/site-packages/keras/engine/training.py\", line 1233, in step_function  **\n        outputs = model.distribute_strategy.run(run_step, args=(data,))\n    File \"/home/annalena/anaconda3/lib/python3.9/site-packages/keras/engine/training.py\", line 1222, in run_step  **\n        outputs = model.train_step(data)\n    File \"/tmp/ipykernel_9480/2636875523.py\", line 57, in train_step\n        output = self(sequence, training=True)\n    File \"/home/annalena/anaconda3/lib/python3.9/site-packages/keras/utils/traceback_utils.py\", line 70, in error_handler\n        raise e.with_traceback(filtered_tb) from None\n    File \"/tmp/__autograph_generated_file9tmvg206.py\", line 23, in tf__call\n        ag__.for_stmt(ag__.ld(self).layer_list[:-1], None, loop_body, get_state, set_state, ('x',), {'iterate_names': 'layer'})\n    File \"/tmp/__autograph_generated_file9tmvg206.py\", line 21, in loop_body\n        x = ag__.converted_call(ag__.ld(layer), (ag__.ld(x),), None, fscope)\n\n    ValueError: Exception encountered when calling layer 'cnn_lstm_model' (type CNN_LSTMModel).\n    \n    in user code:\n    \n        File \"/tmp/ipykernel_9480/2636875523.py\", line 39, in call  *\n            x = layer(x)\n        File \"/home/annalena/anaconda3/lib/python3.9/site-packages/keras/layers/rnn/base_rnn.py\", line 556, in __call__  **\n            return super().__call__(inputs, **kwargs)\n        File \"/home/annalena/anaconda3/lib/python3.9/site-packages/keras/utils/traceback_utils.py\", line 70, in error_handler\n            raise e.with_traceback(filtered_tb) from None\n        File \"/home/annalena/anaconda3/lib/python3.9/site-packages/keras/layers/rnn/base_rnn.py\", line 664, in call\n            raise ValueError(\n    \n        ValueError: Exception encountered when calling layer 'rnn' (type RNN).\n        \n        Cannot unroll a RNN if the time dimension is undefined. \n        - If using a Sequential model, specify the time dimension by passing an `input_shape` or `batch_input_shape` argument to your first layer. If your first layer is an Embedding, you can also use the `input_length` argument.\n        - If using the functional API, specify the time dimension by passing a `shape` or `batch_shape` argument to your Input layer.\n        \n        Call arguments received by layer 'rnn' (type RNN):\n          • inputs=tf.Tensor(shape=(None, None, 24), dtype=float32)\n          • mask=None\n          • training=True\n          • initial_state=None\n          • constants=None\n    \n    \n    Call arguments received by layer 'cnn_lstm_model' (type CNN_LSTMModel):\n      • x=tf.Tensor(shape=(None, None, 28, 28, 1), dtype=float32)\n      • training=True\n",
          "output_type": "error",
          "traceback": [
            "\u001b[0;31m---------------------------------------------------------------------------\u001b[0m",
            "\u001b[0;31mValueError\u001b[0m                                Traceback (most recent call last)",
            "\u001b[1;32m/home/annalena/Downloads/HomeWork7.ipynb Zelle 11\u001b[0m in \u001b[0;36m<cell line: 1>\u001b[0;34m()\u001b[0m\n\u001b[0;32m----> <a href='vscode-notebook-cell:/home/annalena/Downloads/HomeWork7.ipynb#X13sZmlsZQ%3D%3D?line=0'>1</a>\u001b[0m history \u001b[39m=\u001b[39m model\u001b[39m.\u001b[39;49mfit(train_ds,\n\u001b[1;32m      <a href='vscode-notebook-cell:/home/annalena/Downloads/HomeWork7.ipynb#X13sZmlsZQ%3D%3D?line=1'>2</a>\u001b[0m                     validation_data\u001b[39m=\u001b[39;49mval_ds,\n\u001b[1;32m      <a href='vscode-notebook-cell:/home/annalena/Downloads/HomeWork7.ipynb#X13sZmlsZQ%3D%3D?line=2'>3</a>\u001b[0m                     initial_epoch\u001b[39m=\u001b[39;49m\u001b[39m0\u001b[39;49m,\n\u001b[1;32m      <a href='vscode-notebook-cell:/home/annalena/Downloads/HomeWork7.ipynb#X13sZmlsZQ%3D%3D?line=3'>4</a>\u001b[0m                     epochs\u001b[39m=\u001b[39;49m\u001b[39m50\u001b[39;49m,\n\u001b[1;32m      <a href='vscode-notebook-cell:/home/annalena/Downloads/HomeWork7.ipynb#X13sZmlsZQ%3D%3D?line=4'>5</a>\u001b[0m                     callbacks\u001b[39m=\u001b[39;49m[logging_callback])\n",
            "File \u001b[0;32m~/anaconda3/lib/python3.9/site-packages/keras/utils/traceback_utils.py:70\u001b[0m, in \u001b[0;36mfilter_traceback.<locals>.error_handler\u001b[0;34m(*args, **kwargs)\u001b[0m\n\u001b[1;32m     67\u001b[0m     filtered_tb \u001b[39m=\u001b[39m _process_traceback_frames(e\u001b[39m.\u001b[39m__traceback__)\n\u001b[1;32m     68\u001b[0m     \u001b[39m# To get the full stack trace, call:\u001b[39;00m\n\u001b[1;32m     69\u001b[0m     \u001b[39m# `tf.debugging.disable_traceback_filtering()`\u001b[39;00m\n\u001b[0;32m---> 70\u001b[0m     \u001b[39mraise\u001b[39;00m e\u001b[39m.\u001b[39mwith_traceback(filtered_tb) \u001b[39mfrom\u001b[39;00m \u001b[39mNone\u001b[39m\n\u001b[1;32m     71\u001b[0m \u001b[39mfinally\u001b[39;00m:\n\u001b[1;32m     72\u001b[0m     \u001b[39mdel\u001b[39;00m filtered_tb\n",
            "File \u001b[0;32m/tmp/__autograph_generated_filec84_f3v7.py:15\u001b[0m, in \u001b[0;36mouter_factory.<locals>.inner_factory.<locals>.tf__train_function\u001b[0;34m(iterator)\u001b[0m\n\u001b[1;32m     13\u001b[0m \u001b[39mtry\u001b[39;00m:\n\u001b[1;32m     14\u001b[0m     do_return \u001b[39m=\u001b[39m \u001b[39mTrue\u001b[39;00m\n\u001b[0;32m---> 15\u001b[0m     retval_ \u001b[39m=\u001b[39m ag__\u001b[39m.\u001b[39mconverted_call(ag__\u001b[39m.\u001b[39mld(step_function), (ag__\u001b[39m.\u001b[39mld(\u001b[39mself\u001b[39m), ag__\u001b[39m.\u001b[39mld(iterator)), \u001b[39mNone\u001b[39;00m, fscope)\n\u001b[1;32m     16\u001b[0m \u001b[39mexcept\u001b[39;00m:\n\u001b[1;32m     17\u001b[0m     do_return \u001b[39m=\u001b[39m \u001b[39mFalse\u001b[39;00m\n",
            "\u001b[1;32m/home/annalena/Downloads/HomeWork7.ipynb Zelle 11\u001b[0m in \u001b[0;36mCNN_LSTMModel.train_step\u001b[0;34m(self, data)\u001b[0m\n\u001b[1;32m     <a href='vscode-notebook-cell:/home/annalena/Downloads/HomeWork7.ipynb#X13sZmlsZQ%3D%3D?line=54'>55</a>\u001b[0m sequence, label \u001b[39m=\u001b[39m data\n\u001b[1;32m     <a href='vscode-notebook-cell:/home/annalena/Downloads/HomeWork7.ipynb#X13sZmlsZQ%3D%3D?line=55'>56</a>\u001b[0m \u001b[39mwith\u001b[39;00m tf\u001b[39m.\u001b[39mGradientTape() \u001b[39mas\u001b[39;00m tape:\n\u001b[0;32m---> <a href='vscode-notebook-cell:/home/annalena/Downloads/HomeWork7.ipynb#X13sZmlsZQ%3D%3D?line=56'>57</a>\u001b[0m   output \u001b[39m=\u001b[39m \u001b[39mself\u001b[39m(sequence, training\u001b[39m=\u001b[39m\u001b[39mTrue\u001b[39;00m)\n\u001b[1;32m     <a href='vscode-notebook-cell:/home/annalena/Downloads/HomeWork7.ipynb#X13sZmlsZQ%3D%3D?line=57'>58</a>\u001b[0m   \u001b[39m#loss = self.compiled_loss(label, output, regularization_losses=self.losses)\u001b[39;00m\n\u001b[1;32m     <a href='vscode-notebook-cell:/home/annalena/Downloads/HomeWork7.ipynb#X13sZmlsZQ%3D%3D?line=58'>59</a>\u001b[0m   loss \u001b[39m=\u001b[39m \u001b[39mself\u001b[39m\u001b[39m.\u001b[39mloss(label, output)\n",
            "File \u001b[0;32m/tmp/__autograph_generated_file9tmvg206.py:23\u001b[0m, in \u001b[0;36mouter_factory.<locals>.inner_factory.<locals>.tf__call\u001b[0;34m(self, x, training)\u001b[0m\n\u001b[1;32m     21\u001b[0m     x \u001b[39m=\u001b[39m ag__\u001b[39m.\u001b[39mconverted_call(ag__\u001b[39m.\u001b[39mld(layer), (ag__\u001b[39m.\u001b[39mld(x),), \u001b[39mNone\u001b[39;00m, fscope)\n\u001b[1;32m     22\u001b[0m layer \u001b[39m=\u001b[39m ag__\u001b[39m.\u001b[39mUndefined(\u001b[39m'\u001b[39m\u001b[39mlayer\u001b[39m\u001b[39m'\u001b[39m)\n\u001b[0;32m---> 23\u001b[0m ag__\u001b[39m.\u001b[39mfor_stmt(ag__\u001b[39m.\u001b[39mld(\u001b[39mself\u001b[39m)\u001b[39m.\u001b[39mlayer_list[:\u001b[39m-\u001b[39m\u001b[39m1\u001b[39m], \u001b[39mNone\u001b[39;00m, loop_body, get_state, set_state, (\u001b[39m'\u001b[39m\u001b[39mx\u001b[39m\u001b[39m'\u001b[39m,), {\u001b[39m'\u001b[39m\u001b[39miterate_names\u001b[39m\u001b[39m'\u001b[39m: \u001b[39m'\u001b[39m\u001b[39mlayer\u001b[39m\u001b[39m'\u001b[39m})\n\u001b[1;32m     24\u001b[0m \u001b[39mtry\u001b[39;00m:\n\u001b[1;32m     25\u001b[0m     do_return \u001b[39m=\u001b[39m \u001b[39mTrue\u001b[39;00m\n",
            "File \u001b[0;32m/tmp/__autograph_generated_file9tmvg206.py:21\u001b[0m, in \u001b[0;36mouter_factory.<locals>.inner_factory.<locals>.tf__call.<locals>.loop_body\u001b[0;34m(itr)\u001b[0m\n\u001b[1;32m     19\u001b[0m \u001b[39mnonlocal\u001b[39;00m x\n\u001b[1;32m     20\u001b[0m layer \u001b[39m=\u001b[39m itr\n\u001b[0;32m---> 21\u001b[0m x \u001b[39m=\u001b[39m ag__\u001b[39m.\u001b[39;49mconverted_call(ag__\u001b[39m.\u001b[39;49mld(layer), (ag__\u001b[39m.\u001b[39;49mld(x),), \u001b[39mNone\u001b[39;49;00m, fscope)\n",
            "\u001b[0;31mValueError\u001b[0m: in user code:\n\n    File \"/home/annalena/anaconda3/lib/python3.9/site-packages/keras/engine/training.py\", line 1249, in train_function  *\n        return step_function(self, iterator)\n    File \"/home/annalena/anaconda3/lib/python3.9/site-packages/keras/engine/training.py\", line 1233, in step_function  **\n        outputs = model.distribute_strategy.run(run_step, args=(data,))\n    File \"/home/annalena/anaconda3/lib/python3.9/site-packages/keras/engine/training.py\", line 1222, in run_step  **\n        outputs = model.train_step(data)\n    File \"/tmp/ipykernel_9480/2636875523.py\", line 57, in train_step\n        output = self(sequence, training=True)\n    File \"/home/annalena/anaconda3/lib/python3.9/site-packages/keras/utils/traceback_utils.py\", line 70, in error_handler\n        raise e.with_traceback(filtered_tb) from None\n    File \"/tmp/__autograph_generated_file9tmvg206.py\", line 23, in tf__call\n        ag__.for_stmt(ag__.ld(self).layer_list[:-1], None, loop_body, get_state, set_state, ('x',), {'iterate_names': 'layer'})\n    File \"/tmp/__autograph_generated_file9tmvg206.py\", line 21, in loop_body\n        x = ag__.converted_call(ag__.ld(layer), (ag__.ld(x),), None, fscope)\n\n    ValueError: Exception encountered when calling layer 'cnn_lstm_model' (type CNN_LSTMModel).\n    \n    in user code:\n    \n        File \"/tmp/ipykernel_9480/2636875523.py\", line 39, in call  *\n            x = layer(x)\n        File \"/home/annalena/anaconda3/lib/python3.9/site-packages/keras/layers/rnn/base_rnn.py\", line 556, in __call__  **\n            return super().__call__(inputs, **kwargs)\n        File \"/home/annalena/anaconda3/lib/python3.9/site-packages/keras/utils/traceback_utils.py\", line 70, in error_handler\n            raise e.with_traceback(filtered_tb) from None\n        File \"/home/annalena/anaconda3/lib/python3.9/site-packages/keras/layers/rnn/base_rnn.py\", line 664, in call\n            raise ValueError(\n    \n        ValueError: Exception encountered when calling layer 'rnn' (type RNN).\n        \n        Cannot unroll a RNN if the time dimension is undefined. \n        - If using a Sequential model, specify the time dimension by passing an `input_shape` or `batch_input_shape` argument to your first layer. If your first layer is an Embedding, you can also use the `input_length` argument.\n        - If using the functional API, specify the time dimension by passing a `shape` or `batch_shape` argument to your Input layer.\n        \n        Call arguments received by layer 'rnn' (type RNN):\n          • inputs=tf.Tensor(shape=(None, None, 24), dtype=float32)\n          • mask=None\n          • training=True\n          • initial_state=None\n          • constants=None\n    \n    \n    Call arguments received by layer 'cnn_lstm_model' (type CNN_LSTMModel):\n      • x=tf.Tensor(shape=(None, None, 28, 28, 1), dtype=float32)\n      • training=True\n"
          ]
        }
      ],
      "source": [
        "history = model.fit(train_ds,\n",
        "                    validation_data=val_ds,\n",
        "                    initial_epoch=0,\n",
        "                    epochs=50,\n",
        "                    callbacks=[logging_callback])"
      ]
    },
    {
      "cell_type": "code",
      "execution_count": 12,
      "metadata": {
        "id": "7z_Voc_C_fkx"
      },
      "outputs": [],
      "source": [
        "def visualisation(train_losses, train_acc, test_losses, test_acc):\n",
        "  plt.figure ()\n",
        "  line1, = plt.plot(train_losses , \"b-\" )\n",
        "  line2, = plt.plot(test_losses , \"r-\" )\n",
        "  #line3, = plt.plot(train_acc , \"b:\" )\n",
        "  #line4, = plt.plot(test_acc , \"r:\" )\n",
        "  plt.xlabel( \" Training steps \" )\n",
        "  plt.ylabel( \" Loss / Accuracy \" )\n",
        "  plt.legend((line1, line2), (\"training loss\", \"test loss\"))\n",
        "  plt.show()"
      ]
    },
    {
      "cell_type": "code",
      "execution_count": 13,
      "metadata": {
        "id": "1mXnIas6K9GQ"
      },
      "outputs": [],
      "source": [
        "def training_loop(model, train_ds, val_ds, epochs, train_summary_writer, val_summary_writer, save_path):\n",
        "  train_loss = []\n",
        "  val_loss = []\n",
        "  train_acc = []\n",
        "  val_acc = []\n",
        "\n",
        "  #1. iterate over epochs\n",
        "  for e in range(epochs):\n",
        "    #2. train steps on all batchs in the training data\n",
        "    for data in tqdm.tqdm(train_ds):\n",
        "      metrics = model.train_step(data)\n",
        "    # 3. log and print data metrics\n",
        "    with train_summary_writer.as_default():\n",
        "      for metric in model.metrics:\n",
        "        print(metric)\n",
        "        tf.summary.scalar(f\"{metric.name}\", metric.result(), step=e)\n",
        "    \n",
        "    for (key, value) in metrics.items():\n",
        "      #if key == 'acc':\n",
        "        #train_acc.append(value.numpy())\n",
        "      if key == 'loss':\n",
        "        train_loss.append(value.numpy())\n",
        "\n",
        "    # print the metrics\n",
        "    print([f\"{key}: {value.numpy()}\" for (key, value) in metrics.items()])\n",
        "\n",
        "    #4 reset the metrics\n",
        "    model.reset_metrics()\n",
        "\n",
        "    #5. evaluate on validation data\n",
        "    for data in val_ds:\n",
        "      metrics = model.test_step(data)\n",
        "    \n",
        "    #6. log validation metrics\n",
        "    with val_summary_writer.as_default():\n",
        "      for metric in model.metrics:\n",
        "        print(metric)\n",
        "        tf.summary.scalar(f\"{metric.name}\", metric.result(), step=e)\n",
        "    \n",
        "    for (key, value) in metrics.items():\n",
        "      #if key == 'acc':\n",
        "        #val_acc.append(value.numpy())\n",
        "      if key == 'loss':\n",
        "        val_loss.append(value.numpy())\n",
        "\n",
        "\n",
        "    # print the metrics\n",
        "    print([f\"{key}: {value.numpy()}\" for (key, value) in metrics.items()])\n",
        "    \n",
        "    #7. reset metric objects\n",
        "    model.reset_metrics()\n",
        "\n",
        "  model.save_weights(save_path)\n",
        "  return train_loss, val_loss, train_acc, val_acc"
      ]
    },
    {
      "cell_type": "markdown",
      "metadata": {
        "id": "9irjEBdURY2C"
      },
      "source": [
        "**Training model without regularisation**"
      ]
    },
    {
      "cell_type": "code",
      "execution_count": 44,
      "metadata": {
        "colab": {
          "base_uri": "https://localhost:8080/"
        },
        "id": "SXbhoOuxLDVA",
        "outputId": "20c4dde0-f7ed-469f-97c0-ec8cfd5c2011"
      },
      "outputs": [
        {
          "name": "stderr",
          "output_type": "stream",
          "text": [
            "100%|██████████| 375/375 [01:32<00:00,  4.05it/s]\n"
          ]
        },
        {
          "name": "stdout",
          "output_type": "stream",
          "text": [
            "MeanAbsoluteError(name=loss,dtype=float32)\n",
            "['loss: 4.297207832336426']\n",
            "MeanAbsoluteError(name=loss,dtype=float32)\n",
            "['loss: 4.491774082183838']\n"
          ]
        },
        {
          "name": "stderr",
          "output_type": "stream",
          "text": [
            "100%|██████████| 375/375 [01:32<00:00,  4.04it/s]\n"
          ]
        },
        {
          "name": "stdout",
          "output_type": "stream",
          "text": [
            "MeanAbsoluteError(name=loss,dtype=float32)\n",
            "['loss: 3.111403226852417']\n",
            "MeanAbsoluteError(name=loss,dtype=float32)\n",
            "['loss: 3.0240721702575684']\n"
          ]
        },
        {
          "name": "stderr",
          "output_type": "stream",
          "text": [
            "100%|██████████| 375/375 [01:32<00:00,  4.04it/s]\n"
          ]
        },
        {
          "name": "stdout",
          "output_type": "stream",
          "text": [
            "MeanAbsoluteError(name=loss,dtype=float32)\n",
            "['loss: 2.5839955806732178']\n",
            "MeanAbsoluteError(name=loss,dtype=float32)\n",
            "['loss: 2.529127359390259']\n"
          ]
        },
        {
          "name": "stderr",
          "output_type": "stream",
          "text": [
            "100%|██████████| 375/375 [01:32<00:00,  4.05it/s]\n"
          ]
        },
        {
          "name": "stdout",
          "output_type": "stream",
          "text": [
            "MeanAbsoluteError(name=loss,dtype=float32)\n",
            "['loss: 2.4269275665283203']\n",
            "MeanAbsoluteError(name=loss,dtype=float32)\n",
            "['loss: 2.4477577209472656']\n"
          ]
        },
        {
          "name": "stderr",
          "output_type": "stream",
          "text": [
            "100%|██████████| 375/375 [01:32<00:00,  4.04it/s]\n"
          ]
        },
        {
          "name": "stdout",
          "output_type": "stream",
          "text": [
            "MeanAbsoluteError(name=loss,dtype=float32)\n",
            "['loss: 2.3534939289093018']\n",
            "MeanAbsoluteError(name=loss,dtype=float32)\n",
            "['loss: 2.3807575702667236']\n"
          ]
        },
        {
          "name": "stderr",
          "output_type": "stream",
          "text": [
            "100%|██████████| 375/375 [01:32<00:00,  4.07it/s]\n"
          ]
        },
        {
          "name": "stdout",
          "output_type": "stream",
          "text": [
            "MeanAbsoluteError(name=loss,dtype=float32)\n",
            "['loss: 2.3035330772399902']\n",
            "MeanAbsoluteError(name=loss,dtype=float32)\n",
            "['loss: 2.3796496391296387']\n"
          ]
        },
        {
          "name": "stderr",
          "output_type": "stream",
          "text": [
            "100%|██████████| 375/375 [01:32<00:00,  4.06it/s]\n"
          ]
        },
        {
          "name": "stdout",
          "output_type": "stream",
          "text": [
            "MeanAbsoluteError(name=loss,dtype=float32)\n",
            "['loss: 2.2671396732330322']\n",
            "MeanAbsoluteError(name=loss,dtype=float32)\n",
            "['loss: 2.3135149478912354']\n"
          ]
        },
        {
          "name": "stderr",
          "output_type": "stream",
          "text": [
            "100%|██████████| 375/375 [01:32<00:00,  4.04it/s]\n"
          ]
        },
        {
          "name": "stdout",
          "output_type": "stream",
          "text": [
            "MeanAbsoluteError(name=loss,dtype=float32)\n",
            "['loss: 2.2393076419830322']\n",
            "MeanAbsoluteError(name=loss,dtype=float32)\n",
            "['loss: 2.276466131210327']\n"
          ]
        },
        {
          "name": "stderr",
          "output_type": "stream",
          "text": [
            "100%|██████████| 375/375 [01:32<00:00,  4.04it/s]\n"
          ]
        },
        {
          "name": "stdout",
          "output_type": "stream",
          "text": [
            "MeanAbsoluteError(name=loss,dtype=float32)\n",
            "['loss: 2.2176921367645264']\n",
            "MeanAbsoluteError(name=loss,dtype=float32)\n",
            "['loss: 2.2722127437591553']\n"
          ]
        },
        {
          "name": "stderr",
          "output_type": "stream",
          "text": [
            "100%|██████████| 375/375 [01:32<00:00,  4.06it/s]\n"
          ]
        },
        {
          "name": "stdout",
          "output_type": "stream",
          "text": [
            "MeanAbsoluteError(name=loss,dtype=float32)\n",
            "['loss: 2.1974544525146484']\n",
            "MeanAbsoluteError(name=loss,dtype=float32)\n",
            "['loss: 2.2554330825805664']\n"
          ]
        },
        {
          "name": "stderr",
          "output_type": "stream",
          "text": [
            "100%|██████████| 375/375 [01:32<00:00,  4.05it/s]\n"
          ]
        },
        {
          "name": "stdout",
          "output_type": "stream",
          "text": [
            "MeanAbsoluteError(name=loss,dtype=float32)\n",
            "['loss: 2.1800153255462646']\n",
            "MeanAbsoluteError(name=loss,dtype=float32)\n",
            "['loss: 2.2374191284179688']\n"
          ]
        },
        {
          "name": "stderr",
          "output_type": "stream",
          "text": [
            "100%|██████████| 375/375 [01:32<00:00,  4.04it/s]\n"
          ]
        },
        {
          "name": "stdout",
          "output_type": "stream",
          "text": [
            "MeanAbsoluteError(name=loss,dtype=float32)\n",
            "['loss: 2.165698289871216']\n",
            "MeanAbsoluteError(name=loss,dtype=float32)\n",
            "['loss: 2.2751431465148926']\n"
          ]
        },
        {
          "name": "stderr",
          "output_type": "stream",
          "text": [
            "100%|██████████| 375/375 [01:33<00:00,  4.02it/s]\n"
          ]
        },
        {
          "name": "stdout",
          "output_type": "stream",
          "text": [
            "MeanAbsoluteError(name=loss,dtype=float32)\n",
            "['loss: 2.1540019512176514']\n",
            "MeanAbsoluteError(name=loss,dtype=float32)\n",
            "['loss: 2.280911445617676']\n"
          ]
        },
        {
          "name": "stderr",
          "output_type": "stream",
          "text": [
            "100%|██████████| 375/375 [01:33<00:00,  4.03it/s]\n"
          ]
        },
        {
          "name": "stdout",
          "output_type": "stream",
          "text": [
            "MeanAbsoluteError(name=loss,dtype=float32)\n",
            "['loss: 2.1429553031921387']\n",
            "MeanAbsoluteError(name=loss,dtype=float32)\n",
            "['loss: 2.2255055904388428']\n"
          ]
        },
        {
          "name": "stderr",
          "output_type": "stream",
          "text": [
            "100%|██████████| 375/375 [01:32<00:00,  4.05it/s]\n"
          ]
        },
        {
          "name": "stdout",
          "output_type": "stream",
          "text": [
            "MeanAbsoluteError(name=loss,dtype=float32)\n",
            "['loss: 2.129734754562378']\n",
            "MeanAbsoluteError(name=loss,dtype=float32)\n",
            "['loss: 2.2358779907226562']\n"
          ]
        },
        {
          "name": "stderr",
          "output_type": "stream",
          "text": [
            "100%|██████████| 375/375 [01:33<00:00,  4.02it/s]\n"
          ]
        },
        {
          "name": "stdout",
          "output_type": "stream",
          "text": [
            "MeanAbsoluteError(name=loss,dtype=float32)\n",
            "['loss: 2.1214346885681152']\n",
            "MeanAbsoluteError(name=loss,dtype=float32)\n",
            "['loss: 2.2452914714813232']\n"
          ]
        },
        {
          "name": "stderr",
          "output_type": "stream",
          "text": [
            "100%|██████████| 375/375 [01:32<00:00,  4.04it/s]\n"
          ]
        },
        {
          "name": "stdout",
          "output_type": "stream",
          "text": [
            "MeanAbsoluteError(name=loss,dtype=float32)\n",
            "['loss: 2.1138384342193604']\n",
            "MeanAbsoluteError(name=loss,dtype=float32)\n",
            "['loss: 2.2309625148773193']\n"
          ]
        },
        {
          "name": "stderr",
          "output_type": "stream",
          "text": [
            "100%|██████████| 375/375 [01:36<00:00,  3.88it/s]\n"
          ]
        },
        {
          "name": "stdout",
          "output_type": "stream",
          "text": [
            "MeanAbsoluteError(name=loss,dtype=float32)\n",
            "['loss: 2.1067516803741455']\n",
            "MeanAbsoluteError(name=loss,dtype=float32)\n",
            "['loss: 2.248706340789795']\n"
          ]
        },
        {
          "name": "stderr",
          "output_type": "stream",
          "text": [
            "100%|██████████| 375/375 [01:33<00:00,  4.02it/s]\n"
          ]
        },
        {
          "name": "stdout",
          "output_type": "stream",
          "text": [
            "MeanAbsoluteError(name=loss,dtype=float32)\n",
            "['loss: 2.1006014347076416']\n",
            "MeanAbsoluteError(name=loss,dtype=float32)\n",
            "['loss: 2.259290933609009']\n"
          ]
        },
        {
          "name": "stderr",
          "output_type": "stream",
          "text": [
            "100%|██████████| 375/375 [01:33<00:00,  4.03it/s]\n"
          ]
        },
        {
          "name": "stdout",
          "output_type": "stream",
          "text": [
            "MeanAbsoluteError(name=loss,dtype=float32)\n",
            "['loss: 2.094290018081665']\n",
            "MeanAbsoluteError(name=loss,dtype=float32)\n",
            "['loss: 2.244666337966919']\n"
          ]
        }
      ],
      "source": [
        "#train_ds = proccess(train_ds, batch_size=32)\n",
        "#val_ds = proccess(val_ds, batch_size=32)\n",
        "\n",
        "\n",
        "model = CNN_LSTMModel(batch_size=32, sequence_len=5)\n",
        "#model(tf.keras.Input((32,32,3)))\n",
        "#model.summary()\n",
        "epochs=20\n",
        "\n",
        "#2. choose a path to save the weights\n",
        "save_path = \"trained_model\"\n",
        "\n",
        "train_loss, val_loss, train_acc, val_acc = training_loop(model, train_ds, val_ds, epochs, train_summary_writer, val_summary_writer, save_path)\n",
        "#visualisation(train_loss, train_acc, val_loss, val_acc)\n"
      ]
    },
    {
      "cell_type": "code",
      "execution_count": 45,
      "metadata": {},
      "outputs": [
        {
          "data": {
            "image/png": "[encoded data removed]",
            "text/plain": [
              "<Figure size 432x288 with 1 Axes>"
            ]
          },
          "metadata": {
            "needs_background": "light"
          },
          "output_type": "display_data"
        }
      ],
      "source": [
        "visualisation(train_loss, train_acc, val_loss, val_acc)"
      ]
    },
    {
      "cell_type": "code",
      "execution_count": 46,
      "metadata": {},
      "outputs": [
        {
          "name": "stdout",
          "output_type": "stream",
          "text": [
            "(32, 5)\n",
            "(32, 5, 28, 28, 1)\n",
            "tf.Tensor([ 2  2  6 -2  5], shape=(5,), dtype=int32)\n",
            "tf.Tensor(\n",
            "[[ 2.0564184]\n",
            " [-6.1020756]\n",
            " [ 6.2947497]\n",
            " [ 4.7774215]\n",
            " [ 4.691855 ]], shape=(5, 1), dtype=float32)\n"
          ]
        },
        {
          "data": {
            "text/plain": [
              "<Figure size 432x288 with 0 Axes>"
            ]
          },
          "metadata": {},
          "output_type": "display_data"
        },
        {
          "data": {
            "image/png": "[encoded data removed]",
            "text/plain": [
              "<Figure size 432x288 with 5 Axes>"
            ]
          },
          "metadata": {
            "needs_background": "light"
          },
          "output_type": "display_data"
        }
      ],
      "source": [
        "for img1, label in val_ds.take(1):\n",
        "  print(label.shape)\n",
        "  print(img1.shape)\n",
        "  plt.figure()\n",
        "  f, axarr = plt.subplots(5,1) \n",
        "  axarr[0].imshow(img1[0][0].numpy().squeeze())\n",
        "  axarr[1].imshow(img1[0][1].numpy().squeeze())\n",
        "  axarr[2].imshow(img1[0][2].numpy().squeeze())\n",
        "  axarr[3].imshow(img1[0][3].numpy().squeeze())\n",
        "  axarr[4].imshow(img1[0][4].numpy().squeeze())\n",
        "  print(label[0])\n",
        "  model.test_step((img1,label), return_predictions=True)"
      ]
    }
  ],
  "metadata": {
    "colab": {
      "provenance": []
    },
    "kernelspec": {
      "display_name": "Python 3 (ipykernel)",
      "language": "python",
      "name": "python3"
    },
    "language_info": {
      "codemirror_mode": {
        "name": "ipython",
        "version": 3
      },
      "file_extension": ".py",
      "mimetype": "text/x-python",
      "name": "python",
      "nbconvert_exporter": "python",
      "pygments_lexer": "ipython3",
      "version": "3.9.12"
    }
  },
  "nbformat": 4,
  "nbformat_minor": 0
}
