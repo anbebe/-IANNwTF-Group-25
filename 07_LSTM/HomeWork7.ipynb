{
  "cells": [
    {
      "cell_type": "code",
      "execution_count": 23,
      "metadata": {
        "id": "FXtBNnate5Ae"
      },
      "outputs": [
        {
          "name": "stdout",
          "output_type": "stream",
          "text": [
            "The tensorboard extension is already loaded. To reload it, use:\n",
            "  %reload_ext tensorboard\n"
          ]
        }
      ],
      "source": [
        "#!pip install keras_cv\n",
        "\n",
        "import tensorflow as tf\n",
        "import tensorflow_datasets as tfds\n",
        "from datetime import datetime\n",
        "import matplotlib.pyplot as plt\n",
        "import numpy as np\n",
        "import tqdm\n",
        "\n",
        "%load_ext tensorboard"
      ]
    },
    {
      "cell_type": "markdown",
      "metadata": {
        "id": "Lwd4Y9cPX02b"
      },
      "source": [
        "### Prepare the Dataset"
      ]
    },
    {
      "cell_type": "code",
      "execution_count": 24,
      "metadata": {
        "id": "V6YBtArxgrwB"
      },
      "outputs": [],
      "source": [
        "#1. get mnist from tensorflow datasets\n",
        "mnist = tfds.load(\"mnist\", split=[\"train\",\"test\"], as_supervised=True)\n",
        "train_ds = mnist[0]\n",
        "val_ds = mnist[1]\n",
        "\n",
        "def cumsum_dataset(ds, seq_len):\n",
        "  ds = ds.map(lambda x, t: tf.cast(t, dtype=tf.dtypes.int32))\n",
        "  ds = ds.window(seq_len)\n",
        "  def alternating_scan_function(state, elem):\n",
        "    old_sign = state\n",
        "    new_sign = old_sign*-1\n",
        "    signed_target = elem*old_sign\n",
        "    out_elem = signed_target\n",
        "    new_state = new_sign\n",
        "    return new_state, out_elem\n",
        "  ds = ds.map(lambda sub_ds: sub_ds.scan(initial_state=1, scan_func=alternating_scan_function))\n",
        "  def scan_cum_sum_function(state, elem):\n",
        "    sum_including_this_elem = state+elem\n",
        "    return sum_including_this_elem, sum_including_this_elem\n",
        "  ds = ds.map(lambda sub_dataset: sub_dataset.scan(initial_state=0, scan_func=scan_cum_sum_function))\n",
        "  ds = ds.map(lambda sub_dataset: sub_dataset.batch(seq_len).get_single_element())\n",
        "  return ds\n",
        "\n",
        "\n",
        "#2. Preproces the data using the map method or scan\n",
        "def preprocess(data, batch_size, sequence_length):\n",
        "  data = data.map(lambda x, t: (tf.cast(x, dtype=tf.float32)/255., t))\n",
        "  ds = data.batch(sequence_length)\n",
        "  targets = data.apply(lambda dataset: cumsum_dataset(dataset, sequence_length))\n",
        "  ds = tf.data.Dataset.zip((ds, targets))\n",
        "  ds = ds.map(lambda img, target: (img[0], target))\n",
        "  ds = ds.shuffle(2000).batch(batch_size)\n",
        "  ds = ds.prefetch(tf.data.AUTOTUNE)\n",
        "\n",
        "  return ds\n",
        "\n",
        "train_ds = preprocess(train_ds, batch_size=32, sequence_length=4)\n",
        "val_ds = preprocess(val_ds, batch_size=32, sequence_length=4)"
      ]
    },
    {
      "cell_type": "code",
      "execution_count": 25,
      "metadata": {
        "colab": {
          "base_uri": "https://localhost:8080/",
          "height": 254
        },
        "id": "O73JfrjMC7Mo",
        "outputId": "ab8503e9-2e3e-4b12-fd42-eb495da81913"
      },
      "outputs": [
        {
          "name": "stdout",
          "output_type": "stream",
          "text": [
            "(32, 4)\n",
            "(32, 4, 28, 28, 1)\n",
            "tf.Tensor([7 4 8 0], shape=(4,), dtype=int32)\n"
          ]
        },
        {
          "name": "stderr",
          "output_type": "stream",
          "text": [
            "2022-12-30 16:32:53.156645: W tensorflow/core/kernels/data/cache_dataset_ops.cc:856] The calling iterator did not fully read the dataset being cached. In order to avoid unexpected truncation of the dataset, the partially cached contents of the dataset  will be discarded. This can happen if you have an input pipeline similar to `dataset.cache().take(k).repeat()`. You should use `dataset.take(k).cache().repeat()` instead.\n",
            "2022-12-30 16:32:53.162860: W tensorflow/core/kernels/data/cache_dataset_ops.cc:856] The calling iterator did not fully read the dataset being cached. In order to avoid unexpected truncation of the dataset, the partially cached contents of the dataset  will be discarded. This can happen if you have an input pipeline similar to `dataset.cache().take(k).repeat()`. You should use `dataset.take(k).cache().repeat()` instead.\n"
          ]
        },
        {
          "data": {
            "text/plain": [
              "<Figure size 432x288 with 0 Axes>"
            ]
          },
          "metadata": {},
          "output_type": "display_data"
        },
        {
          "data": {
            "image/png": "[encoded data removed]",
            "text/plain": [
              "<Figure size 432x288 with 4 Axes>"
            ]
          },
          "metadata": {
            "needs_background": "light"
          },
          "output_type": "display_data"
        }
      ],
      "source": [
        "for img1, label in train_ds.take(1):\n",
        "  print(label.shape)\n",
        "  print(img1.shape)\n",
        "  plt.figure()\n",
        "  f, axarr = plt.subplots(4,1) \n",
        "  axarr[0].imshow(img1[0][0].numpy().squeeze())\n",
        "  axarr[1].imshow(img1[0][1].numpy().squeeze())\n",
        "  axarr[2].imshow(img1[0][2].numpy().squeeze())\n",
        "  axarr[3].imshow(img1[0][3].numpy().squeeze())\n",
        "  print(label[0])"
      ]
    },
    {
      "cell_type": "markdown",
      "metadata": {
        "id": "-xZPKh8bX7Ly"
      },
      "source": [
        "### Optimise your model"
      ]
    },
    {
      "cell_type": "code",
      "execution_count": 26,
      "metadata": {},
      "outputs": [],
      "source": [
        "class RNNCell(tf.keras.layers.AbstractRNNCell):\n",
        "\n",
        "    def __init__(self, recurrent_units_1, recurrent_units_2, **kwargs):\n",
        "        super().__init__(**kwargs)\n",
        "\n",
        "        self.recurrent_units_1 = recurrent_units_1 # hidden state units\n",
        "        self.recurrent_units_2 = recurrent_units_2 # cell state units\n",
        "        \n",
        "        self.linear_1 = tf.keras.layers.Dense(recurrent_units_1)\n",
        "        self.linear_2 = tf.keras.layers.Dense(recurrent_units_2)\n",
        "        \n",
        "        # forget gate\n",
        "        self.forget_gate = tf.keras.layers.Dense(recurrent_units_1, \n",
        "                                                       kernel_initializer= tf.keras.initializers.Orthogonal(\n",
        "                                                           gain=1.0, seed=None),\n",
        "                                                       activation='sigmoid')\n",
        "        # layer normalization for trainability\n",
        "        self.layer_norm_1 = tf.keras.layers.LayerNormalization()\n",
        "        \n",
        "        # input gate\n",
        "        self.input_gate = tf.keras.layers.Dense(recurrent_units_1, \n",
        "                                                       kernel_initializer= tf.keras.initializers.Orthogonal(\n",
        "                                                           gain=1.0, seed=None), \n",
        "                                                       activation='sigmoid')\n",
        "        # cell-state candidates\n",
        "        self.cellstate_candidates = tf.keras.layers.Dense(recurrent_units_1, \n",
        "                                                       kernel_initializer= tf.keras.initializers.Orthogonal(\n",
        "                                                           gain=1.0, seed=None), \n",
        "                                                       activation=tf.nn.tanh)\n",
        "        # output gate                                               \n",
        "        self.output_gate = tf.keras.layers.Dense(recurrent_units_1, \n",
        "                                                       kernel_initializer= tf.keras.initializers.Orthogonal(\n",
        "                                                           gain=1.0, seed=None), \n",
        "                                                       activation='sigmoid')\n",
        "\n",
        "        # layer normalization for trainability\n",
        "        self.layer_norm_2 = tf.keras.layers.LayerNormalization()\n",
        "    \n",
        "    @property\n",
        "    def state_size(self):\n",
        "        return [tf.TensorShape([self.recurrent_units_1]), \n",
        "                tf.TensorShape([self.recurrent_units_2])]\n",
        "    @property\n",
        "    def output_size(self):\n",
        "        return [tf.TensorShape([self.recurrent_units_2])]\n",
        "    \n",
        "    def get_initial_state(self, inputs=None, batch_size=None, dtype=None):\n",
        "        return [tf.zeros([self.recurrent_units_1]), \n",
        "                tf.zeros([self.recurrent_units_2])]\n",
        "\n",
        "    def call(self, inputs, states):\n",
        "        # unpack the states\n",
        "        hidden_state = states[0]\n",
        "        cell_state = states[1]\n",
        "        \n",
        "        # linearly project input\n",
        "        x = self.linear_1(inputs) + hidden_state\n",
        "        \n",
        "        # apply forget gate\n",
        "        forget_candidates = self.forget_gate(x)\n",
        "        # apply layer norm\n",
        "        #x = self.layer_norm_1(new_hidden_state)\n",
        "\n",
        "        # apply input gate\n",
        "        new_input = self.input_gate(x)\n",
        "        new_candidates = self.cellstate_candidates(x)\n",
        "        # apply layer norm\n",
        "        #x = self.layer_norm_1(new_hidden_state)\n",
        "        \n",
        "        new_cell_state = forget_candidates * cell_state + new_input * new_candidates\n",
        "\n",
        "        # output gate\n",
        "        output= self.output_gate(x)\n",
        "        new_hidden_state = output * tf.nn.tanh(new_cell_state)\n",
        "        \n",
        "        # return output and the list of new states of the layers\n",
        "        return new_hidden_state, [new_hidden_state, new_cell_state]\n",
        "    \n",
        "    def get_config(self):\n",
        "        return {\"recurrent_units_1\": self.recurrent_units_1, \n",
        "                \"recurrent_units_2\": self.recurrent_units_2}"
      ]
    },
    {
      "cell_type": "code",
      "execution_count": 27,
      "metadata": {
        "id": "_ZD1T-AUXFXr"
      },
      "outputs": [],
      "source": [
        "class CNN_LSTMModel(tf.keras.Model):\n",
        "\n",
        "  #1 Constructor\n",
        "  def __init__(self, batch_size, sequence_len):\n",
        "    super(CNN_LSTMModel, self).__init__()\n",
        "    #optimizer, loss function and metrics\n",
        "    self.optimizer = tf.keras.optimizers.Adam(learning_rate=1e-3)\n",
        "    self.loss = tf.keras.losses.MeanAbsoluteError()\n",
        "    self.metrics_list = [\n",
        "                        tf.keras.metrics.MeanAbsoluteError(name=\"loss\")\n",
        "                        #tf.keras.metrics.Accuracy(name=\"acc\")\n",
        "                       ]\n",
        "\n",
        "    input_shape = (batch_size, sequence_len, 28, 28, 1)\n",
        "\n",
        "    self.rnn_cell = RNNCell(recurrent_units_1=24,\n",
        "                                recurrent_units_2=24)\n",
        "        \n",
        "\n",
        "    self.layer_list = [\n",
        "      tf.keras.layers.Conv2D(filters=32, kernel_size=3, padding='same', activation='relu', input_shape=input_shape[2:]),\n",
        "      tf.keras.layers.TimeDistributed(tf.keras.layers.BatchNormalization()),\n",
        "      tf.keras.layers.Conv2D(filters=32, kernel_size=3, padding='same', activation='relu', input_shape=input_shape[2:]),\n",
        "      tf.keras.layers.TimeDistributed(tf.keras.layers.BatchNormalization()),\n",
        "      #tf.keras.layers.TimeDistributed(tf.keras.layers.MaxPooling2D(pool_size=2, strides=2)),\n",
        "      #tf.keras.layers.Conv2D(filters=64, kernel_size=3, padding='same', activation='relu', input_shape=input_shape[2:]),\n",
        "      #tf.keras.layers.TimeDistributed(tf.keras.layers.BatchNormalization()),\n",
        "      #tf.keras.layers.Conv2D(filters=64, kernel_size=3, padding='same', activation='relu', input_shape=input_shape[2:]),\n",
        "      #tf.keras.layers.TimeDistributed(tf.keras.layers.BatchNormalization()),\n",
        "      tf.keras.layers.TimeDistributed(tf.keras.layers.GlobalAvgPool2D()),\n",
        "      tf.keras.layers.Dense(24, activation='softmax'),\n",
        "      tf.keras.layers.RNN(self.rnn_cell, return_sequences=True, unroll=True),\n",
        "      tf.keras.layers.Dense(1)\n",
        "    ]\n",
        "\n",
        "    #2. call method (forward computation)\n",
        "  def call(self, x, training=False):\n",
        "      for layer in self.layer_list[:-1]:\n",
        "        x = layer(x)\n",
        "      return self.layer_list[-1](x)\n",
        "\n",
        "  #3. metrics property\n",
        "  @property\n",
        "  def metrics(self):\n",
        "    # return a list with all metrics in the model\n",
        "    return self.metrics_list\n",
        "\n",
        "\n",
        "  #4 reset all metrics object\n",
        "  def reset_metrics(self):\n",
        "    for metric in self.metrics:\n",
        "      metric.reset_states()\n",
        "\n",
        "  def train_step(self, data):\n",
        "    sequence, label = data\n",
        "    with tf.GradientTape() as tape:\n",
        "      output = self(sequence, training=True)\n",
        "      #loss = self.compiled_loss(label, output, regularization_losses=self.losses)\n",
        "      loss = self.loss(label, output)\n",
        "    \n",
        "    gradients = tape.gradient(loss, self.trainable_variables)\n",
        "    self.optimizer.apply_gradients(zip(gradients, self.trainable_variables))\n",
        "\n",
        "    #update metrics\n",
        "    self.metrics[0].update_state(label, output)\n",
        "    #self.metrics[1].update_state(label, output)\n",
        "    return {m.name : m.result() for m in self.metrics}\n",
        "\n",
        "  def test_step(self, data, return_predictions=False):\n",
        "    sequence, label = data\n",
        "    output = self(sequence, training=False)\n",
        "    if return_predictions:\n",
        "      print(output[0])\n",
        "    #loss = self.compiled_loss(label, output, regularization_losses=self.losses)\n",
        "    loss = self.loss(label, output)\n",
        "    self.metrics[0].update_state(label, output)\n",
        "    #self.metrics[1].update_state(label, output)\n",
        "    return {m.name : m.result()  for m in self.metrics}"
      ]
    },
    {
      "cell_type": "code",
      "execution_count": 28,
      "metadata": {
        "id": "adoxB356K3i7"
      },
      "outputs": [],
      "source": [
        "current_time = datetime.now().strftime(\"%Y%m%d-%H%M%S\")\n",
        "train_log_path = f\"logs/train/\"\n",
        "val_log_path = f\"logs/val/\"\n",
        "train_summary_writer = tf.summary.create_file_writer(train_log_path + current_time)\n",
        "val_summary_writer = tf.summary.create_file_writer(val_log_path + current_time)"
      ]
    },
    {
      "cell_type": "code",
      "execution_count": 30,
      "metadata": {
        "id": "7z_Voc_C_fkx"
      },
      "outputs": [],
      "source": [
        "def visualisation(train_losses, train_acc, test_losses, test_acc):\n",
        "  plt.figure ()\n",
        "  line1, = plt.plot(train_losses , \"b-\" )\n",
        "  line2, = plt.plot(test_losses , \"r-\" )\n",
        "  plt.xlabel( \" Training steps \" )\n",
        "  plt.ylabel( \" Loss / Accuracy \" )\n",
        "  plt.legend((line1, line2), (\"training loss\", \"test loss\"))\n",
        "  plt.show()"
      ]
    },
    {
      "cell_type": "code",
      "execution_count": 31,
      "metadata": {
        "id": "1mXnIas6K9GQ"
      },
      "outputs": [],
      "source": [
        "def training_loop(model, train_ds, val_ds, epochs, train_summary_writer, val_summary_writer, save_path):\n",
        "  train_loss = []\n",
        "  val_loss = []\n",
        "  train_acc = []\n",
        "  val_acc = []\n",
        "\n",
        "  #1. iterate over epochs\n",
        "  for e in range(epochs):\n",
        "    #2. train steps on all batchs in the training data\n",
        "    for data in tqdm.tqdm(train_ds):\n",
        "      metrics = model.train_step(data)\n",
        "    # 3. log and print data metrics\n",
        "    with train_summary_writer.as_default():\n",
        "      for metric in model.metrics:\n",
        "        print(metric)\n",
        "        tf.summary.scalar(f\"{metric.name}\", metric.result(), step=e)\n",
        "    \n",
        "    for (key, value) in metrics.items():\n",
        "      #if key == 'acc':\n",
        "        #train_acc.append(value.numpy())\n",
        "      if key == 'loss':\n",
        "        train_loss.append(value.numpy())\n",
        "\n",
        "    # print the metrics\n",
        "    print([f\"{key}: {value.numpy()}\" for (key, value) in metrics.items()])\n",
        "\n",
        "    #4 reset the metrics\n",
        "    model.reset_metrics()\n",
        "\n",
        "    #5. evaluate on validation data\n",
        "    for data in val_ds:\n",
        "      metrics = model.test_step(data)\n",
        "    \n",
        "    #6. log validation metrics\n",
        "    with val_summary_writer.as_default():\n",
        "      for metric in model.metrics:\n",
        "        print(metric)\n",
        "        tf.summary.scalar(f\"{metric.name}\", metric.result(), step=e)\n",
        "    \n",
        "    for (key, value) in metrics.items():\n",
        "      #if key == 'acc':\n",
        "        #val_acc.append(value.numpy())\n",
        "      if key == 'loss':\n",
        "        val_loss.append(value.numpy())\n",
        "\n",
        "\n",
        "    # print the metrics\n",
        "    print([f\"{key}: {value.numpy()}\" for (key, value) in metrics.items()])\n",
        "    \n",
        "    #7. reset metric objects\n",
        "    model.reset_metrics()\n",
        "\n",
        "  model.save_weights(save_path)\n",
        "  return train_loss, val_loss, train_acc, val_acc"
      ]
    },
    {
      "cell_type": "markdown",
      "metadata": {
        "id": "9irjEBdURY2C"
      },
      "source": [
        "**Training model without regularisation**"
      ]
    },
    {
      "cell_type": "code",
      "execution_count": 32,
      "metadata": {
        "colab": {
          "base_uri": "https://localhost:8080/"
        },
        "id": "SXbhoOuxLDVA",
        "outputId": "20c4dde0-f7ed-469f-97c0-ec8cfd5c2011"
      },
      "outputs": [
        {
          "name": "stderr",
          "output_type": "stream",
          "text": [
            "100%|██████████| 469/469 [01:17<00:00,  6.07it/s]\n"
          ]
        },
        {
          "name": "stdout",
          "output_type": "stream",
          "text": [
            "MeanAbsoluteError(name=loss,dtype=float32)\n",
            "['loss: 3.823650598526001']\n",
            "MeanAbsoluteError(name=loss,dtype=float32)\n",
            "['loss: 3.600949287414551']\n"
          ]
        },
        {
          "name": "stderr",
          "output_type": "stream",
          "text": [
            "100%|██████████| 469/469 [01:20<00:00,  5.83it/s]\n"
          ]
        },
        {
          "name": "stdout",
          "output_type": "stream",
          "text": [
            "MeanAbsoluteError(name=loss,dtype=float32)\n",
            "['loss: 2.319366693496704']\n",
            "MeanAbsoluteError(name=loss,dtype=float32)\n",
            "['loss: 3.0722246170043945']\n"
          ]
        },
        {
          "name": "stderr",
          "output_type": "stream",
          "text": [
            "100%|██████████| 469/469 [01:22<00:00,  5.66it/s]\n"
          ]
        },
        {
          "name": "stdout",
          "output_type": "stream",
          "text": [
            "MeanAbsoluteError(name=loss,dtype=float32)\n",
            "['loss: 1.6866123676300049']\n",
            "MeanAbsoluteError(name=loss,dtype=float32)\n",
            "['loss: 3.0516741275787354']\n"
          ]
        },
        {
          "name": "stderr",
          "output_type": "stream",
          "text": [
            "100%|██████████| 469/469 [01:18<00:00,  5.95it/s]\n"
          ]
        },
        {
          "name": "stdout",
          "output_type": "stream",
          "text": [
            "MeanAbsoluteError(name=loss,dtype=float32)\n",
            "['loss: 1.5452830791473389']\n",
            "MeanAbsoluteError(name=loss,dtype=float32)\n",
            "['loss: 1.7526381015777588']\n"
          ]
        },
        {
          "name": "stderr",
          "output_type": "stream",
          "text": [
            "100%|██████████| 469/469 [01:19<00:00,  5.93it/s]\n"
          ]
        },
        {
          "name": "stdout",
          "output_type": "stream",
          "text": [
            "MeanAbsoluteError(name=loss,dtype=float32)\n",
            "['loss: 1.4445877075195312']\n",
            "MeanAbsoluteError(name=loss,dtype=float32)\n",
            "['loss: 1.9030367136001587']\n"
          ]
        },
        {
          "name": "stderr",
          "output_type": "stream",
          "text": [
            "100%|██████████| 469/469 [01:19<00:00,  5.87it/s]\n"
          ]
        },
        {
          "name": "stdout",
          "output_type": "stream",
          "text": [
            "MeanAbsoluteError(name=loss,dtype=float32)\n",
            "['loss: 1.3611540794372559']\n",
            "MeanAbsoluteError(name=loss,dtype=float32)\n",
            "['loss: 1.955135703086853']\n"
          ]
        },
        {
          "name": "stderr",
          "output_type": "stream",
          "text": [
            "100%|██████████| 469/469 [01:19<00:00,  5.89it/s]\n"
          ]
        },
        {
          "name": "stdout",
          "output_type": "stream",
          "text": [
            "MeanAbsoluteError(name=loss,dtype=float32)\n",
            "['loss: 1.273972511291504']\n",
            "MeanAbsoluteError(name=loss,dtype=float32)\n",
            "['loss: 1.5738064050674438']\n"
          ]
        },
        {
          "name": "stderr",
          "output_type": "stream",
          "text": [
            "100%|██████████| 469/469 [01:19<00:00,  5.89it/s]\n"
          ]
        },
        {
          "name": "stdout",
          "output_type": "stream",
          "text": [
            "MeanAbsoluteError(name=loss,dtype=float32)\n",
            "['loss: 1.2198922634124756']\n",
            "MeanAbsoluteError(name=loss,dtype=float32)\n",
            "['loss: 1.3275976181030273']\n"
          ]
        },
        {
          "name": "stderr",
          "output_type": "stream",
          "text": [
            "100%|██████████| 469/469 [01:19<00:00,  5.87it/s]\n"
          ]
        },
        {
          "name": "stdout",
          "output_type": "stream",
          "text": [
            "MeanAbsoluteError(name=loss,dtype=float32)\n",
            "['loss: 1.1591646671295166']\n",
            "MeanAbsoluteError(name=loss,dtype=float32)\n",
            "['loss: 2.412667989730835']\n"
          ]
        },
        {
          "name": "stderr",
          "output_type": "stream",
          "text": [
            "100%|██████████| 469/469 [01:19<00:00,  5.90it/s]\n"
          ]
        },
        {
          "name": "stdout",
          "output_type": "stream",
          "text": [
            "MeanAbsoluteError(name=loss,dtype=float32)\n",
            "['loss: 1.131697416305542']\n",
            "MeanAbsoluteError(name=loss,dtype=float32)\n",
            "['loss: 1.396078109741211']\n"
          ]
        },
        {
          "name": "stderr",
          "output_type": "stream",
          "text": [
            "100%|██████████| 469/469 [01:20<00:00,  5.82it/s]\n"
          ]
        },
        {
          "name": "stdout",
          "output_type": "stream",
          "text": [
            "MeanAbsoluteError(name=loss,dtype=float32)\n",
            "['loss: 1.0731641054153442']\n",
            "MeanAbsoluteError(name=loss,dtype=float32)\n",
            "['loss: 1.3668912649154663']\n"
          ]
        },
        {
          "name": "stderr",
          "output_type": "stream",
          "text": [
            "100%|██████████| 469/469 [01:20<00:00,  5.80it/s]\n"
          ]
        },
        {
          "name": "stdout",
          "output_type": "stream",
          "text": [
            "MeanAbsoluteError(name=loss,dtype=float32)\n",
            "['loss: 1.0395866632461548']\n",
            "MeanAbsoluteError(name=loss,dtype=float32)\n",
            "['loss: 3.321593761444092']\n"
          ]
        },
        {
          "name": "stderr",
          "output_type": "stream",
          "text": [
            "100%|██████████| 469/469 [01:20<00:00,  5.81it/s]\n"
          ]
        },
        {
          "name": "stdout",
          "output_type": "stream",
          "text": [
            "MeanAbsoluteError(name=loss,dtype=float32)\n",
            "['loss: 1.013696551322937']\n",
            "MeanAbsoluteError(name=loss,dtype=float32)\n",
            "['loss: 1.5229064226150513']\n"
          ]
        },
        {
          "name": "stderr",
          "output_type": "stream",
          "text": [
            "100%|██████████| 469/469 [01:19<00:00,  5.91it/s]\n"
          ]
        },
        {
          "name": "stdout",
          "output_type": "stream",
          "text": [
            "MeanAbsoluteError(name=loss,dtype=float32)\n",
            "['loss: 0.9761881232261658']\n",
            "MeanAbsoluteError(name=loss,dtype=float32)\n",
            "['loss: 1.6976392269134521']\n"
          ]
        },
        {
          "name": "stderr",
          "output_type": "stream",
          "text": [
            "100%|██████████| 469/469 [01:19<00:00,  5.89it/s]\n"
          ]
        },
        {
          "name": "stdout",
          "output_type": "stream",
          "text": [
            "MeanAbsoluteError(name=loss,dtype=float32)\n",
            "['loss: 0.9467750787734985']\n",
            "MeanAbsoluteError(name=loss,dtype=float32)\n",
            "['loss: 1.2526384592056274']\n"
          ]
        },
        {
          "name": "stderr",
          "output_type": "stream",
          "text": [
            "100%|██████████| 469/469 [01:19<00:00,  5.88it/s]\n"
          ]
        },
        {
          "name": "stdout",
          "output_type": "stream",
          "text": [
            "MeanAbsoluteError(name=loss,dtype=float32)\n",
            "['loss: 0.9257831573486328']\n",
            "MeanAbsoluteError(name=loss,dtype=float32)\n",
            "['loss: 1.1585323810577393']\n"
          ]
        },
        {
          "name": "stderr",
          "output_type": "stream",
          "text": [
            "100%|██████████| 469/469 [01:19<00:00,  5.89it/s]\n"
          ]
        },
        {
          "name": "stdout",
          "output_type": "stream",
          "text": [
            "MeanAbsoluteError(name=loss,dtype=float32)\n",
            "['loss: 0.8974609375']\n",
            "MeanAbsoluteError(name=loss,dtype=float32)\n",
            "['loss: 1.8095703125']\n"
          ]
        },
        {
          "name": "stderr",
          "output_type": "stream",
          "text": [
            "100%|██████████| 469/469 [01:19<00:00,  5.90it/s]\n"
          ]
        },
        {
          "name": "stdout",
          "output_type": "stream",
          "text": [
            "MeanAbsoluteError(name=loss,dtype=float32)\n",
            "['loss: 0.8668899536132812']\n",
            "MeanAbsoluteError(name=loss,dtype=float32)\n",
            "['loss: 2.1140661239624023']\n"
          ]
        },
        {
          "name": "stderr",
          "output_type": "stream",
          "text": [
            "100%|██████████| 469/469 [01:20<00:00,  5.81it/s]\n"
          ]
        },
        {
          "name": "stdout",
          "output_type": "stream",
          "text": [
            "MeanAbsoluteError(name=loss,dtype=float32)\n",
            "['loss: 0.8507105112075806']\n",
            "MeanAbsoluteError(name=loss,dtype=float32)\n",
            "['loss: 1.3142800331115723']\n"
          ]
        },
        {
          "name": "stderr",
          "output_type": "stream",
          "text": [
            "100%|██████████| 469/469 [01:08<00:00,  6.83it/s]\n"
          ]
        },
        {
          "name": "stdout",
          "output_type": "stream",
          "text": [
            "MeanAbsoluteError(name=loss,dtype=float32)\n",
            "['loss: 0.8265340328216553']\n",
            "MeanAbsoluteError(name=loss,dtype=float32)\n",
            "['loss: 1.7863519191741943']\n"
          ]
        }
      ],
      "source": [
        "model = CNN_LSTMModel(batch_size=32, sequence_len=4)\n",
        "epochs=15\n",
        "\n",
        "#2. choose a path to save the weights\n",
        "save_path = \"trained_model\"\n",
        "\n",
        "train_loss, val_loss, train_acc, val_acc = training_loop(model, train_ds, val_ds, epochs, train_summary_writer, val_summary_writer, save_path)\n"
      ]
    },
    {
      "cell_type": "code",
      "execution_count": 33,
      "metadata": {},
      "outputs": [
        {
          "data": {
            "image/png": "[encoded data removed]",
            "text/plain": [
              "<Figure size 432x288 with 1 Axes>"
            ]
          },
          "metadata": {
            "needs_background": "light"
          },
          "output_type": "display_data"
        }
      ],
      "source": [
        "visualisation(train_loss, train_acc, val_loss, val_acc)"
      ]
    },
    {
      "cell_type": "code",
      "execution_count": 34,
      "metadata": {},
      "outputs": [
        {
          "name": "stdout",
          "output_type": "stream",
          "text": [
            "(32, 4)\n",
            "(32, 4, 28, 28, 1)\n",
            "tf.Tensor([ 4 -1 -1 -3], shape=(4,), dtype=int32)\n",
            "tf.Tensor(\n",
            "[[ 5.319496  ]\n",
            " [ 0.03693405]\n",
            " [ 2.7953842 ]\n",
            " [-2.7309043 ]], shape=(4, 1), dtype=float32)\n"
          ]
        },
        {
          "data": {
            "text/plain": [
              "<Figure size 432x288 with 0 Axes>"
            ]
          },
          "metadata": {},
          "output_type": "display_data"
        },
        {
          "data": {
            "image/png": "[encoded data removed]",
            "text/plain": [
              "<Figure size 432x288 with 5 Axes>"
            ]
          },
          "metadata": {
            "needs_background": "light"
          },
          "output_type": "display_data"
        }
      ],
      "source": [
        "for img1, label in val_ds.take(1):\n",
        "  print(label.shape)\n",
        "  print(img1.shape)\n",
        "  plt.figure()\n",
        "  f, axarr = plt.subplots(5,1) \n",
        "  axarr[0].imshow(img1[0][0].numpy().squeeze())\n",
        "  axarr[1].imshow(img1[0][1].numpy().squeeze())\n",
        "  axarr[2].imshow(img1[0][2].numpy().squeeze())\n",
        "  axarr[3].imshow(img1[0][3].numpy().squeeze())\n",
        "  print(label[0])\n",
        "  model.test_step((img1,label), return_predictions=True)"
      ]
    }
  ],
  "metadata": {
    "colab": {
      "provenance": []
    },
    "kernelspec": {
      "display_name": "Python 3 (ipykernel)",
      "language": "python",
      "name": "python3"
    },
    "language_info": {
      "codemirror_mode": {
        "name": "ipython",
        "version": 3
      },
      "file_extension": ".py",
      "mimetype": "text/x-python",
      "name": "python",
      "nbconvert_exporter": "python",
      "pygments_lexer": "ipython3",
      "version": "3.9.12"
    }
  },
  "nbformat": 4,
  "nbformat_minor": 0
}
