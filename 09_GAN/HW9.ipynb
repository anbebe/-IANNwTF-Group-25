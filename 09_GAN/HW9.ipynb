{
  "nbformat": 4,
  "nbformat_minor": 0,
  "metadata": {
    "colab": {
      "provenance": []
    },
    "kernelspec": {
      "name": "python3",
      "display_name": "Python 3"
    },
    "language_info": {
      "name": "python"
    }
  },
  "cells": [
    {
      "cell_type": "code",
      "execution_count": 109,
      "metadata": {
        "id": "t4G87fB76l-T"
      },
      "outputs": [],
      "source": [
        "import tensorflow as tf\n",
        "import numpy as np\n",
        "import matplotlib.pyplot as plt\n",
        "import datetime\n",
        "import tensorflow_datasets as tfds\n",
        "import tqdm\n",
        "\n",
        "import os\n",
        "import glob\n",
        "import imageio\n",
        "import matplotlib.pyplot as plt\n",
        "import numpy as np\n",
        "import PIL\n",
        "from tensorflow.keras import layers\n",
        "import time\n",
        "\n",
        "from IPython import display"
      ]
    },
    {
      "cell_type": "code",
      "source": [
        "import urllib\n",
        "categories = [line.rstrip(b'\\n') for line in urllib.request.urlopen('https://raw.githubusercontent.com/googlecreativelab/quickdraw-dataset/master/categories.txt')]\n",
        "print(categories[:10])\n",
        "category = 'candle'"
      ],
      "metadata": {
        "colab": {
          "base_uri": "https://localhost:8080/"
        },
        "id": "IdvGFDYr88wO",
        "outputId": "8e50a7c1-1105-4e0e-9fca-49b84dba67a0"
      },
      "execution_count": 110,
      "outputs": [
        {
          "output_type": "stream",
          "name": "stdout",
          "text": [
            "[b'aircraft carrier', b'airplane', b'alarm clock', b'ambulance', b'angel', b'animal migration', b'ant', b'anvil', b'apple', b'arm']\n"
          ]
        }
      ]
    },
    {
      "cell_type": "code",
      "source": [
        "# Creates a folder to download the original drawings into.\n",
        "# We chose to use the numpy format : 1x784 pixel vectors, with values going from 0 (white) to 255 (black). We reshape them later to 28x28 grids and normalize the pixel intensity to [-1, 1]\n",
        "\n",
        "if not os.path.isdir('npy_files'):\n",
        "    os.mkdir('npy_files')\n",
        "\n",
        "#category = \"googleDataset\"\n",
        "\n",
        "url = f'https://storage.googleapis.com/quickdraw_dataset/full/numpy_bitmap/{category}.npy'  \n",
        "urllib.request.urlretrieve(url, f'npy_files/{category}.npy')\n",
        "\n",
        "images = np.load(f'npy_files/{category}.npy')\n",
        "print(f'{len(images)} images to train on')\n",
        "\n",
        "# You can limit the amount of images you use for training by setting :\n",
        "train_images = images[:10000]\n",
        "# You should also define a samller subset of the images for testing..\n",
        "test_images = images[10000:12000]"
      ],
      "metadata": {
        "colab": {
          "base_uri": "https://localhost:8080/"
        },
        "id": "BINIttsk8-HD",
        "outputId": "45343903-c795-4697-be7e-a6b1d74761f6"
      },
      "execution_count": 111,
      "outputs": [
        {
          "output_type": "stream",
          "name": "stdout",
          "text": [
            "141545 images to train on\n"
          ]
        }
      ]
    },
    {
      "cell_type": "code",
      "source": [
        "images.shape"
      ],
      "metadata": {
        "colab": {
          "base_uri": "https://localhost:8080/"
        },
        "id": "a4wFqjsk9AD8",
        "outputId": "8303fddd-3a36-4093-db79-c6012ed3226e"
      },
      "execution_count": 112,
      "outputs": [
        {
          "output_type": "execute_result",
          "data": {
            "text/plain": [
              "(141545, 784)"
            ]
          },
          "metadata": {},
          "execution_count": 112
        }
      ]
    },
    {
      "cell_type": "code",
      "source": [
        "def prepare_data(data):\n",
        "    data = tf.data.Dataset.from_tensor_slices(data.reshape(len(data), 28,28,1))\n",
        "    #data = tf.data.Dataset.from_tensor_slices(data)\n",
        "    \n",
        "    #reshape\n",
        "    #data = data.map(lambda img: tf.reshape(img, (28,28,1)))\n",
        "\n",
        "    data = data.map(lambda img: (tf.cast(img, tf.float32)))\n",
        "\n",
        "    # normalize input to gaussian distribution or divide by 128\n",
        "    data = data.map(lambda img: ((img/128)-1))\n",
        "\n",
        "    # keep the progess in memory\n",
        "    data = data.cache()\n",
        "    #mnist = mnist.shuffle(1000) \n",
        "    data = data.batch(32) # 32 image in one batch\n",
        "    data = data.prefetch(20) # prepare 20 next datapoints \n",
        "\n",
        "    return data"
      ],
      "metadata": {
        "id": "LF8gAxw89Bg0"
      },
      "execution_count": 113,
      "outputs": []
    },
    {
      "cell_type": "code",
      "source": [
        "train_ds = prepare_data(train_images)\n",
        "test_ds = prepare_data(test_images)\n",
        "train_ds.take(1)"
      ],
      "metadata": {
        "colab": {
          "base_uri": "https://localhost:8080/"
        },
        "id": "uq6xBj-E-EJm",
        "outputId": "16daa1dd-1137-4adc-bbb8-08213ad64964"
      },
      "execution_count": 114,
      "outputs": [
        {
          "output_type": "execute_result",
          "data": {
            "text/plain": [
              "<TakeDataset element_spec=TensorSpec(shape=(None, 28, 28, 1), dtype=tf.float32, name=None)>"
            ]
          },
          "metadata": {},
          "execution_count": 114
        }
      ]
    },
    {
      "cell_type": "code",
      "source": [
        "for x in train_ds.take(1):\n",
        "  img = tf.cast(tf.floor(x*128+1), tf.uint32)[-1,:,:,-1]\n",
        "  plt.imshow(img)"
      ],
      "metadata": {
        "colab": {
          "base_uri": "https://localhost:8080/",
          "height": 265
        },
        "id": "vYV3Z3NyGBAA",
        "outputId": "6b3ea99d-af17-4ddb-92c7-23bf4a9b35c3"
      },
      "execution_count": 115,
      "outputs": [
        {
          "output_type": "display_data",
          "data": {
            "text/plain": [
              "<Figure size 432x288 with 1 Axes>"
            ],
            "image/png": "[encoded data removed]"
          },
          "metadata": {
            "needs_background": "light"
          }
        }
      ]
    },
    {
      "cell_type": "markdown",
      "source": [
        "**The Model**"
      ],
      "metadata": {
        "id": "lhbGGKGGD1Py"
      }
    },
    {
      "cell_type": "code",
      "source": [
        "class Discriminator(tf.keras.Model):\n",
        "  def __init__(self):\n",
        "    super(Discriminator, self).__init__()\n",
        "\n",
        "    self.layers_list = [\n",
        "      #tf.keras.layers.Input(shape=(32,28,28,1)),\n",
        "      tf.keras.layers.Conv2D(filters=32, kernel_size=3, strides=2, padding='same', activation='relu', input_shape=(28,28,1)), \n",
        "      tf.keras.layers.BatchNormalization(),\n",
        "      tf.keras.layers.Conv2D(filters=32, kernel_size=3, strides=2, padding='same', activation='relu'), \n",
        "      tf.keras.layers.GlobalMaxPool2D(),\n",
        "      tf.keras.layers.Dense(1, activation='sigmoid')\n",
        "    ]\n",
        "\n",
        "  def __call__(self, img, training = False):\n",
        "    for layer in self.layers_list:\n",
        "      img = layer(img, training=training)\n",
        "    return img "
      ],
      "metadata": {
        "id": "ULhEgBTYAJMj"
      },
      "execution_count": 116,
      "outputs": []
    },
    {
      "cell_type": "code",
      "source": [
        "class Generator(tf.keras.Model):\n",
        "  def __init__(self):\n",
        "    super(Generator, self).__init__()\n",
        "\n",
        "    self.transposed_layers_list = [\n",
        "        tf.keras.layers.Dense(7*7*64, input_shape=(100,)),\n",
        "        tf.keras.layers.BatchNormalization(),\n",
        "        tf.keras.layers.LeakyReLU(),\n",
        "        tf.keras.layers.Reshape((7, 7, 64)),\n",
        "        tf.keras.layers.Conv2DTranspose(64, (3, 3), strides=(2, 2), padding='same'),\n",
        "        tf.keras.layers.BatchNormalization(),\n",
        "        tf.keras.layers.Conv2DTranspose(32, (3, 3), strides=(2, 2), padding='same'),\n",
        "        tf.keras.layers.BatchNormalization(),\n",
        "        tf.keras.layers.Conv2DTranspose(1, (3, 3), strides=(2, 2), padding='same', activation='tanh')\n",
        "    ]\n",
        "\n",
        "  def __call__(self, x, training = False):\n",
        "    for layer in self.transposed_layers_list:\n",
        "        x = layer(x, training = training)\n",
        "    return x\n",
        "    \n"
      ],
      "metadata": {
        "id": "MvqIf08RFzof"
      },
      "execution_count": 117,
      "outputs": []
    },
    {
      "cell_type": "code",
      "source": [
        "class GAN(tf.keras.Model):\n",
        "  def __init__(self):\n",
        "    super(GAN, self).__init__()\n",
        "\n",
        "    self.metrics_list = [\n",
        "                        tf.keras.metrics.Mean(name=\"discriminator_loss\"),\n",
        "                        tf.keras.metrics.Mean(name=\"generator_loss\") \n",
        "                       ]\n",
        "    self.optimizer_disc = tf.keras.optimizers.Adam()\n",
        "    self.optimizer_gen = tf.keras.optimizers.Adam()\n",
        "    self.loss = tf.keras.losses.BinaryCrossentropy()\n",
        "\n",
        "    self.generator = Generator()\n",
        "    self.discriminator = Discriminator()\n",
        "\n",
        "    #2. call method (forward computation)\n",
        "  def call(self, img, noise = tf.random.normal([32,1,100]), training = False):\n",
        "    # create fake image with generator\n",
        "    # store fake image in gen_fake_img\n",
        "    gen_fake_image = self.generator(noise, training = training)\n",
        "    # feed it to dicriminator\n",
        "    # store prediction in fake_img\n",
        "    fake_img = self.discriminator(gen_fake_image, training = training)\n",
        "    # feed real image to discriminator\n",
        "    # store prediction in img\n",
        "    img = self.discriminator(img, training = training) \n",
        "    return img, fake_img, gen_fake_image\n",
        "    \n",
        "\n",
        "  #3. metrics property\n",
        "  @property\n",
        "  def metrics(self):\n",
        "    # return a list with all metrics in the model\n",
        "    return self.metrics_list\n",
        "\n",
        "\n",
        "  #4 reset all metrics object\n",
        "  def reset_metrics(self):\n",
        "    for metric in self.metrics:\n",
        "      metric.reset_states()\n",
        "\n",
        "  def train_step(self, data):\n",
        "    noise = tf.random.normal([32,1,100])\n",
        "\n",
        "    with tf.GradientTape() as gen_tape, tf.GradientTape() as disc_tape: #its possible to use just one gradient tape with tf.GradientTape(persistent = True)\n",
        "      # call the GAN model\n",
        "      imgPrediction, fake_imgPrediction, gen_fake_image = self(x, noise, training = True) \n",
        "      # create targets\n",
        "      imgTarget, fake_imgTarget = tf.ones_like(imgPrediction), tf.zeros_like(fake_imgPrediction) #we could do this outside of gradientTape, with tf.ones instead of tf.ones_like\n",
        "\n",
        "      # calculate the discriminator loss\n",
        "      imgLoss = self.loss(imgTarget, imgPrediction)\n",
        "      fake_imgLoss = self.loss(fake_imgTarget, fake_imgPrediction)\n",
        "      discriminator_loss = fake_imgLoss + imgLoss\n",
        "\n",
        "      # calculate the generator loss\n",
        "      generator_loss = self.loss(tf.ones_like(fake_imgPrediction), fake_imgPrediction)\n",
        "\n",
        "    gen_gradients = gen_tape.gradient(generator_loss, self.generator.trainable_variables)\n",
        "    disc_gradients = disc_tape.gradient(discriminator_loss, self.discriminator.trainable_variables)\n",
        "    self.optimizer_gen.apply_gradients(zip(gen_gradients, self.generator.trainable_variables))\n",
        "    self.optimizer_disc.apply_gradients(zip(disc_gradients, self.discriminator.trainable_variables))\n",
        "\n",
        "    # update metrics\n",
        "    self.metrics[0].update_state(discriminator_loss)\n",
        "    self.metrics[1].update_state(generator_loss)\n",
        "    return {m.name : m.result() for m in self.metrics}, gen_fake_image\n",
        "\n",
        "  def test_step(self, data):\n",
        "    noise = tf.random.normal([32,1,100])\n",
        "\n",
        "    # call model and create targets \n",
        "    imgPrediction, fake_imgPrediction, gen_fake_image = self(x, noise, training = False) \n",
        "    imgTarget, fake_imgTarget = tf.ones_like(imgPrediction), tf.zeros_like(fake_imgPrediction) \n",
        "\n",
        "    # calculate the loss\n",
        "    imgLoss = self.loss(imgTarget, imgPrediction)\n",
        "    fake_imgLoss = self.loss(fake_imgTarget, fake_imgPrediction)\n",
        "    discriminator_loss = fake_imgLoss + imgLoss\n",
        "\n",
        "    generator_loss = self.loss(tf.ones_like(fake_imgPrediction), fake_imgPrediction)\n",
        "\n",
        "    # update metrics\n",
        "    self.metrics[0].update_state(discriminator_loss)\n",
        "    self.metrics[1].update_state(generator_loss)\n",
        "\n",
        "    return {\"val_\" + m.name : m.result() for m in self.metrics}, gen_fake_image"
      ],
      "metadata": {
        "id": "NwqmjV0dUBpM"
      },
      "execution_count": 118,
      "outputs": []
    },
    {
      "cell_type": "code",
      "source": [
        "model_test = GAN() \n",
        "\n",
        "model_test(tf.keras.Input((28,28,1)), tf.keras.Input((1,100)))\n",
        "\n",
        "model_test.summary()"
      ],
      "metadata": {
        "colab": {
          "base_uri": "https://localhost:8080/"
        },
        "id": "1WkUqSknbLCQ",
        "outputId": "002f2e7f-ce0c-41d3-b685-34d871aa31e6"
      },
      "execution_count": 119,
      "outputs": [
        {
          "output_type": "stream",
          "name": "stdout",
          "text": [
            "Model: \"gan_14\"\n",
            "_________________________________________________________________\n",
            " Layer (type)                Output Shape              Param #   \n",
            "=================================================================\n",
            " generator_14 (Generator)    multiple                  0 (unused)\n",
            "                                                                 \n",
            " discriminator_14 (Discrimin  multiple                 0 (unused)\n",
            " ator)                                                           \n",
            "                                                                 \n",
            "=================================================================\n",
            "Total params: 395,078\n",
            "Trainable params: 388,546\n",
            "Non-trainable params: 6,532\n",
            "_________________________________________________________________\n"
          ]
        }
      ]
    },
    {
      "cell_type": "code",
      "source": [
        "def training_loop(model, train_ds, val_ds, epochs, train_summary_writer, val_summary_writer, img_summary_writer, save_path): \n",
        "\n",
        "  # 1. iterate over epochs\n",
        "  img = []\n",
        "  for epoch in range(epochs):\n",
        "\n",
        "    # 2. train step over all batches in training data\n",
        "    for data in tqdm.tqdm(train_ds):\n",
        "      metrics, generated_fake_image = model.train_step(data)\n",
        "\n",
        "\n",
        "    # 3. log and print training metrics \n",
        "    with train_summary_writer.as_default():\n",
        "      tf.summary.scalar(name = \"discriminator_loss\", data = metrics[\"discriminator_loss\"], step = epoch)\n",
        "      tf.summary.scalar(name = \"generator_loss\", data = metrics[\"generator_loss\"], step = epoch)\n",
        "\n",
        "    print(metrics.items())\n",
        "\n",
        "    # 4. rest metrics\n",
        "    model.reset_metrics()\n",
        "\n",
        "    # 5. evaluate on validation data\n",
        "    for data in val_ds:\n",
        "      metrics, generated_fake_image = model.test_step(data)\n",
        "\n",
        "    img.append(generated_fake_image)\n",
        "    # 6. log validation metric \n",
        "    with val_summary_writer.as_default():\n",
        "      tf.summary.scalar(name = \"val_discriminator_loss\", data = metrics[\"val_discriminator_loss\"], step = epoch)\n",
        "      tf.summary.scalar(name = \"val_generator_loss\", data = metrics[\"val_generator_loss\"], step = epoch)\n",
        "\n",
        "    with img_summary_writer.as_default():\n",
        "      #tensorflow can handle floats in image, we dont have to cast back to int\n",
        "      tf.summary.image(name = \"generated_fake_image\", data = tf.reshape(generated_fake_image, (-1, 28, 28, 1)), step = epoch)\n",
        "\n",
        "    print(metrics.items())\n",
        "\n",
        "    # 7. reset metric objects\n",
        "    model.reset_metrics()\n",
        "\n",
        "  #8. save models weights\n",
        "  model.save_weights(save_path)\n",
        "\n",
        "  # 9. plot generated image for each epoch\n",
        "  no_subplot = 1\n",
        "  for x in img:\n",
        "    x = tf.cast(tf.floor(x*128+1), tf.uint32)[-1,:,:,-1]\n",
        "    plt.subplot(1,10,no_subplot)\n",
        "    plt.imshow(x, cmap = 'gray')\n",
        "    plt.axis('off')\n",
        "    no_subplot += 1"
      ],
      "metadata": {
        "id": "E-1K7pQGrC3P"
      },
      "execution_count": 120,
      "outputs": []
    },
    {
      "cell_type": "code",
      "source": [
        "current_time = datetime.datetime.now().strftime(\"%Y%m%d-%H%M%S\")\n",
        "train_log_path = f\"logs/train/\"\n",
        "val_log_path = f\"logs/val/\"\n",
        "img_log_path = f\"logs/img/\"\n",
        "\n",
        "# log writer for training metrics\n",
        "train_summary_writer = tf.summary.create_file_writer(train_log_path + current_time)\n",
        "# log writer for validation metrics\n",
        "val_summary_writer = tf.summary.create_file_writer(val_log_path + current_time)\n",
        "\n",
        "img_summary_writer = tf.summary.create_file_writer(img_log_path + current_time)\n"
      ],
      "metadata": {
        "id": "0xD-rBynr7Lf"
      },
      "execution_count": 121,
      "outputs": []
    },
    {
      "cell_type": "code",
      "source": [
        "model = GAN()\n",
        "epochs=10\n",
        "\n",
        "#2. choose a path to save the weights\n",
        "save_path = \"trained_model\"\n",
        "\n",
        "training_loop(model, train_ds, test_ds, 10, train_summary_writer, val_summary_writer, img_summary_writer, save_path)"
      ],
      "metadata": {
        "colab": {
          "base_uri": "https://localhost:8080/",
          "height": 580
        },
        "id": "egZXdilJshfW",
        "outputId": "c8be1d86-45e6-4fe6-c52f-eafab81f41d7"
      },
      "execution_count": 122,
      "outputs": [
        {
          "output_type": "stream",
          "name": "stderr",
          "text": [
            "100%|██████████| 313/313 [01:21<00:00,  3.82it/s]\n"
          ]
        },
        {
          "output_type": "stream",
          "name": "stdout",
          "text": [
            "dict_items([('discriminator_loss', <tf.Tensor: shape=(), dtype=float32, numpy=0.12199862>), ('generator_loss', <tf.Tensor: shape=(), dtype=float32, numpy=3.4593759>)])\n",
            "dict_items([('val_discriminator_loss', <tf.Tensor: shape=(), dtype=float32, numpy=2.1447585>), ('val_generator_loss', <tf.Tensor: shape=(), dtype=float32, numpy=0.1447971>)])\n"
          ]
        },
        {
          "output_type": "stream",
          "name": "stderr",
          "text": [
            "100%|██████████| 313/313 [01:21<00:00,  3.82it/s]\n"
          ]
        },
        {
          "output_type": "stream",
          "name": "stdout",
          "text": [
            "dict_items([('discriminator_loss', <tf.Tensor: shape=(), dtype=float32, numpy=0.01954305>), ('generator_loss', <tf.Tensor: shape=(), dtype=float32, numpy=5.287057>)])\n",
            "dict_items([('val_discriminator_loss', <tf.Tensor: shape=(), dtype=float32, numpy=0.34065303>), ('val_generator_loss', <tf.Tensor: shape=(), dtype=float32, numpy=1.6915325>)])\n"
          ]
        },
        {
          "output_type": "stream",
          "name": "stderr",
          "text": [
            "100%|██████████| 313/313 [01:21<00:00,  3.82it/s]\n"
          ]
        },
        {
          "output_type": "stream",
          "name": "stdout",
          "text": [
            "dict_items([('discriminator_loss', <tf.Tensor: shape=(), dtype=float32, numpy=0.012027404>), ('generator_loss', <tf.Tensor: shape=(), dtype=float32, numpy=5.651688>)])\n",
            "dict_items([('val_discriminator_loss', <tf.Tensor: shape=(), dtype=float32, numpy=0.11582822>), ('val_generator_loss', <tf.Tensor: shape=(), dtype=float32, numpy=3.166764>)])\n"
          ]
        },
        {
          "output_type": "stream",
          "name": "stderr",
          "text": [
            "100%|██████████| 313/313 [01:21<00:00,  3.82it/s]\n"
          ]
        },
        {
          "output_type": "stream",
          "name": "stdout",
          "text": [
            "dict_items([('discriminator_loss', <tf.Tensor: shape=(), dtype=float32, numpy=0.011502011>), ('generator_loss', <tf.Tensor: shape=(), dtype=float32, numpy=6.170632>)])\n",
            "dict_items([('val_discriminator_loss', <tf.Tensor: shape=(), dtype=float32, numpy=0.033458136>), ('val_generator_loss', <tf.Tensor: shape=(), dtype=float32, numpy=6.565122>)])\n"
          ]
        },
        {
          "output_type": "stream",
          "name": "stderr",
          "text": [
            "100%|██████████| 313/313 [01:10<00:00,  4.42it/s]\n"
          ]
        },
        {
          "output_type": "stream",
          "name": "stdout",
          "text": [
            "dict_items([('discriminator_loss', <tf.Tensor: shape=(), dtype=float32, numpy=0.0060540903>), ('generator_loss', <tf.Tensor: shape=(), dtype=float32, numpy=6.443069>)])\n",
            "dict_items([('val_discriminator_loss', <tf.Tensor: shape=(), dtype=float32, numpy=0.4577736>), ('val_generator_loss', <tf.Tensor: shape=(), dtype=float32, numpy=6.2472444>)])\n"
          ]
        },
        {
          "output_type": "stream",
          "name": "stderr",
          "text": [
            "100%|██████████| 313/313 [01:10<00:00,  4.43it/s]\n"
          ]
        },
        {
          "output_type": "stream",
          "name": "stdout",
          "text": [
            "dict_items([('discriminator_loss', <tf.Tensor: shape=(), dtype=float32, numpy=0.0049868347>), ('generator_loss', <tf.Tensor: shape=(), dtype=float32, numpy=6.878602>)])\n",
            "dict_items([('val_discriminator_loss', <tf.Tensor: shape=(), dtype=float32, numpy=0.07393301>), ('val_generator_loss', <tf.Tensor: shape=(), dtype=float32, numpy=3.5928006>)])\n"
          ]
        },
        {
          "output_type": "stream",
          "name": "stderr",
          "text": [
            "100%|██████████| 313/313 [01:21<00:00,  3.82it/s]\n"
          ]
        },
        {
          "output_type": "stream",
          "name": "stdout",
          "text": [
            "dict_items([('discriminator_loss', <tf.Tensor: shape=(), dtype=float32, numpy=0.0042057447>), ('generator_loss', <tf.Tensor: shape=(), dtype=float32, numpy=6.9875417>)])\n",
            "dict_items([('val_discriminator_loss', <tf.Tensor: shape=(), dtype=float32, numpy=1.0845153>), ('val_generator_loss', <tf.Tensor: shape=(), dtype=float32, numpy=0.5653268>)])\n"
          ]
        },
        {
          "output_type": "stream",
          "name": "stderr",
          "text": [
            "100%|██████████| 313/313 [01:21<00:00,  3.82it/s]\n"
          ]
        },
        {
          "output_type": "stream",
          "name": "stdout",
          "text": [
            "dict_items([('discriminator_loss', <tf.Tensor: shape=(), dtype=float32, numpy=0.0023877067>), ('generator_loss', <tf.Tensor: shape=(), dtype=float32, numpy=7.138022>)])\n",
            "dict_items([('val_discriminator_loss', <tf.Tensor: shape=(), dtype=float32, numpy=0.07986958>), ('val_generator_loss', <tf.Tensor: shape=(), dtype=float32, numpy=9.767504>)])\n"
          ]
        },
        {
          "output_type": "stream",
          "name": "stderr",
          "text": [
            "100%|██████████| 313/313 [01:11<00:00,  4.41it/s]\n"
          ]
        },
        {
          "output_type": "stream",
          "name": "stdout",
          "text": [
            "dict_items([('discriminator_loss', <tf.Tensor: shape=(), dtype=float32, numpy=0.0014804385>), ('generator_loss', <tf.Tensor: shape=(), dtype=float32, numpy=7.4488516>)])\n",
            "dict_items([('val_discriminator_loss', <tf.Tensor: shape=(), dtype=float32, numpy=0.07181645>), ('val_generator_loss', <tf.Tensor: shape=(), dtype=float32, numpy=6.795386>)])\n"
          ]
        },
        {
          "output_type": "stream",
          "name": "stderr",
          "text": [
            "100%|██████████| 313/313 [01:10<00:00,  4.42it/s]\n"
          ]
        },
        {
          "output_type": "stream",
          "name": "stdout",
          "text": [
            "dict_items([('discriminator_loss', <tf.Tensor: shape=(), dtype=float32, numpy=0.0011779555>), ('generator_loss', <tf.Tensor: shape=(), dtype=float32, numpy=7.7392173>)])\n",
            "dict_items([('val_discriminator_loss', <tf.Tensor: shape=(), dtype=float32, numpy=0.0048444695>), ('val_generator_loss', <tf.Tensor: shape=(), dtype=float32, numpy=7.2492943>)])\n"
          ]
        },
        {
          "output_type": "display_data",
          "data": {
            "text/plain": [
              "<Figure size 432x288 with 10 Axes>"
            ],
            "image/png": "[encoded data removed]"
          },
          "metadata": {
            "needs_background": "light"
          }
        }
      ]
    },
    {
      "cell_type": "code",
      "source": [],
      "metadata": {
        "id": "9LW14ertsyNG"
      },
      "execution_count": 122,
      "outputs": []
    }
  ]
}