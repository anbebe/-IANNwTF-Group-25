{
 "cells": [
  {
   "cell_type": "code",
   "execution_count": 2,
   "metadata": {},
   "outputs": [
    {
     "name": "stderr",
     "output_type": "stream",
     "text": [
      "/Users/leonackermann/miniforge3/envs/iannwtf/lib/python3.10/site-packages/tqdm/auto.py:22: TqdmWarning: IProgress not found. Please update jupyter and ipywidgets. See https://ipywidgets.readthedocs.io/en/stable/user_install.html\n",
      "  from .autonotebook import tqdm as notebook_tqdm\n"
     ]
    }
   ],
   "source": [
    "import tensorflow_datasets as tfds\n",
    "import tensorflow as tf\n",
    "from tensorflow.keras.layers import Dense\n",
    "import numpy as np\n",
    "import matplotlib.pyplot as plt\n",
    "from datetime import datetime\n",
    "%load_ext tensorboard"
   ]
  },
  {
   "attachments": {},
   "cell_type": "markdown",
   "metadata": {},
   "source": [
    "# Data "
   ]
  },
  {
   "attachments": {},
   "cell_type": "markdown",
   "metadata": {},
   "source": [
    "## Data import"
   ]
  },
  {
   "cell_type": "code",
   "execution_count": 3,
   "metadata": {},
   "outputs": [
    {
     "name": "stdout",
     "output_type": "stream",
     "text": [
      "Metal device set to: Apple M1 Pro\n",
      "\n",
      "systemMemory: 32.00 GB\n",
      "maxCacheSize: 10.67 GB\n",
      "\n"
     ]
    },
    {
     "name": "stderr",
     "output_type": "stream",
     "text": [
      "2023-01-08 13:17:26.189371: I tensorflow/core/common_runtime/pluggable_device/pluggable_device_factory.cc:306] Could not identify NUMA node of platform GPU ID 0, defaulting to 0. Your kernel may not have been built with NUMA support.\n",
      "2023-01-08 13:17:26.189503: I tensorflow/core/common_runtime/pluggable_device/pluggable_device_factory.cc:272] Created TensorFlow device (/job:localhost/replica:0/task:0/device:GPU:0 with 0 MB memory) -> physical PluggableDevice (device: 0, name: METAL, pci bus id: <undefined>)\n"
     ]
    }
   ],
   "source": [
    "(train_ds, test_ds), ds_info = tfds.load('mnist', split=['train', 'test'], as_supervised=True, with_info=True)"
   ]
  },
  {
   "attachments": {},
   "cell_type": "markdown",
   "metadata": {},
   "source": [
    "## Data preprocessing"
   ]
  },
  {
   "attachments": {},
   "cell_type": "markdown",
   "metadata": {},
   "source": [
    "### Data pipeline"
   ]
  },
  {
   "cell_type": "code",
   "execution_count": 4,
   "metadata": {},
   "outputs": [],
   "source": [
    "def prepare_mnist_data(mnist, noise_factor):\n",
    "    \n",
    "    # map from uint8 to tf.float\n",
    "    mnist = mnist.map(lambda img, target: (tf.cast(img, tf.float32)))\n",
    "    \n",
    "    # normalize input to gaussian distribution or divide by 128\n",
    "    mnist = mnist.map(lambda img: ((img/128)-1))\n",
    "\n",
    "    # add third dimension --> do we really need this?\n",
    "    #mnist = mnist.map(lambda img: (tf.expand_dims(img, -1)))\n",
    "\n",
    "    # add noise\n",
    "    noisy_mnist = mnist.map(lambda img: (img+noise_factor*tf.random.normal(shape=img.shape)))\n",
    "    noisy_mnist = noisy_mnist.map(lambda img: (tf.clip_by_value(img,clip_value_min=0, clip_value_max=1)))\n",
    "\n",
    "    # set noisy_mnist as input and mnist as label\n",
    "    mnist = tf.data.Dataset.zip((noisy_mnist, mnist))\n",
    "\n",
    "    # keep the progess in memory\n",
    "    mnist = mnist.cache()\n",
    "    #mnist = mnist.shuffle(1000) \n",
    "    mnist = mnist.batch(32) # 32 image in one batch\n",
    "    mnist = mnist.prefetch(20) # prepare 20 next datapoints \n",
    "\n",
    "    return mnist"
   ]
  },
  {
   "attachments": {},
   "cell_type": "markdown",
   "metadata": {},
   "source": [
    "### Apply data pipeline"
   ]
  },
  {
   "cell_type": "code",
   "execution_count": 5,
   "metadata": {},
   "outputs": [],
   "source": [
    "train = prepare_mnist_data(train_ds, 0.4)\n",
    "val = prepare_mnist_data(test_ds, 0.4)"
   ]
  },
  {
   "attachments": {},
   "cell_type": "markdown",
   "metadata": {},
   "source": [
    "### Shape of data"
   ]
  },
  {
   "cell_type": "code",
   "execution_count": 6,
   "metadata": {},
   "outputs": [
    {
     "name": "stdout",
     "output_type": "stream",
     "text": [
      "[32, 28, 28, 1]\n"
     ]
    },
    {
     "name": "stderr",
     "output_type": "stream",
     "text": [
      "2023-01-08 13:17:35.198238: W tensorflow/core/platform/profile_utils/cpu_utils.cc:128] Failed to get CPU frequency: 0 Hz\n",
      "2023-01-08 13:17:35.241513: W tensorflow/core/kernels/data/cache_dataset_ops.cc:856] The calling iterator did not fully read the dataset being cached. In order to avoid unexpected truncation of the dataset, the partially cached contents of the dataset  will be discarded. This can happen if you have an input pipeline similar to `dataset.cache().take(k).repeat()`. You should use `dataset.take(k).cache().repeat()` instead.\n",
      "2023-01-08 13:17:35.241552: W tensorflow/core/kernels/data/cache_dataset_ops.cc:856] The calling iterator did not fully read the dataset being cached. In order to avoid unexpected truncation of the dataset, the partially cached contents of the dataset  will be discarded. This can happen if you have an input pipeline similar to `dataset.cache().take(k).repeat()`. You should use `dataset.take(k).cache().repeat()` instead.\n",
      "2023-01-08 13:17:35.241713: W tensorflow/core/kernels/data/cache_dataset_ops.cc:856] The calling iterator did not fully read the dataset being cached. In order to avoid unexpected truncation of the dataset, the partially cached contents of the dataset  will be discarded. This can happen if you have an input pipeline similar to `dataset.cache().take(k).repeat()`. You should use `dataset.take(k).cache().repeat()` instead.\n"
     ]
    }
   ],
   "source": [
    "for (img, noisy_img) in train.take(1):\n",
    "    print(img.shape.as_list())"
   ]
  },
  {
   "attachments": {},
   "cell_type": "markdown",
   "metadata": {},
   "source": [
    "## Plot of image + noise"
   ]
  },
  {
   "attachments": {},
   "cell_type": "markdown",
   "metadata": {},
   "source": [
    "**Questions:** Should we have color channels because it is done this way in the homework?"
   ]
  },
  {
   "cell_type": "code",
   "execution_count": 23,
   "metadata": {},
   "outputs": [
    {
     "ename": "TypeError",
     "evalue": "'TakeDataset' object is not subscriptable",
     "output_type": "error",
     "traceback": [
      "\u001b[0;31m---------------------------------------------------------------------------\u001b[0m",
      "\u001b[0;31mTypeError\u001b[0m                                 Traceback (most recent call last)",
      "Cell \u001b[0;32mIn [23], line 20\u001b[0m\n\u001b[1;32m     17\u001b[0m     plt\u001b[39m.\u001b[39mshow()\n\u001b[1;32m     19\u001b[0m data \u001b[39m=\u001b[39m train\u001b[39m.\u001b[39mtake(\u001b[39m10\u001b[39m)\n\u001b[0;32m---> 20\u001b[0m \u001b[39mprint\u001b[39m(\u001b[39mlen\u001b[39m(data[\u001b[39m0\u001b[39;49m]))\n\u001b[1;32m     21\u001b[0m plot(data)\n",
      "\u001b[0;31mTypeError\u001b[0m: 'TakeDataset' object is not subscriptable"
     ]
    }
   ],
   "source": [
    "def plot(data):   \n",
    "    n = len(data)\n",
    "    plt.figure(figsize=(20, 5))\n",
    "    for (noisy_img, img) in data:\n",
    "        for i in range(n):\n",
    "            ax = plt.subplot(2,n,i+1)\n",
    "            plt.title(\"original\") \n",
    "            plt.imshow(tf.squeeze(img[i]))\n",
    "            #plt.title(\"original+noise\")\n",
    "            #plt.imshow(tf.squeeze(noisy_img[i]))\n",
    "            #plt.gray()\n",
    "        for i in range(n):\n",
    "            ax = plt.subplot(2,n,i+n+1)\n",
    "            plt.title(\"original+noise\")\n",
    "            plt.imshow(tf.squeeze(noisy_img[i]))\n",
    "            plt.gray()\n",
    "    plt.show()\n",
    "\n",
    "data = train.take(10)\n",
    "print(len(data))\n",
    "plot(data)"
   ]
  },
  {
   "attachments": {},
   "cell_type": "markdown",
   "metadata": {},
   "source": [
    "# The model classes"
   ]
  },
  {
   "attachments": {},
   "cell_type": "markdown",
   "metadata": {},
   "source": [
    "## The encoder"
   ]
  },
  {
   "cell_type": "code",
   "execution_count": 10,
   "metadata": {},
   "outputs": [],
   "source": [
    "class Encoder(tf.keras.Model):\n",
    "  \n",
    "  #1 Constructor\n",
    "  def __init__(self):\n",
    "    super(Encoder, self).__init__()\n",
    "    #inherit functionality from parent class\n",
    "\n",
    "    self.layers_list = [\n",
    "      #tf.keras.layers.Input(shape=(32,28,28,1)),\n",
    "      tf.keras.layers.Conv2D(filters=32, kernel_size=3, strides=2, padding='same', activation='relu', input_shape=(28,28,1)), # (batch, 14,14,1)\n",
    "      tf.keras.layers.Conv2D(filters=32, kernel_size=3, strides=2, padding='same', activation='relu'), # (batch, 7,7,1)\n",
    "      tf.keras.layers.Flatten(), \n",
    "      tf.keras.layers.Dense(10, activation='sigmoid')\n",
    "    ]\n",
    "\n",
    "  #2. call method (forward computation)\n",
    "  def call(self, img, training=False):\n",
    "    x = img\n",
    "    for layer in self.layers_list:\n",
    "      x = layer(x)\n",
    "\n",
    "    return x\n",
    "\n",
    "  #3 return latent dimensions for restoring in decoder\n",
    "  def get_latent_dims(self):\n",
    "    return [layer.output_shape for layer in self.layers_list]"
   ]
  },
  {
   "attachments": {},
   "cell_type": "markdown",
   "metadata": {},
   "source": [
    "## The decoder"
   ]
  },
  {
   "cell_type": "code",
   "execution_count": 11,
   "metadata": {},
   "outputs": [],
   "source": [
    "class Decoder(tf.keras.Model):\n",
    "  \n",
    "  #1 Constructor\n",
    "  def __init__(self):\n",
    "    super(Decoder, self).__init__()\n",
    "    #inherit functionality from parent class\n",
    "\n",
    "    self.layers_list = [\n",
    "        tf.keras.layers.Dense(1568, activation='sigmoid'),\n",
    "        tf.keras.layers.Reshape((7,7,32)),\n",
    "        tf.keras.layers.Conv2DTranspose(32, kernel_size=3, strides=2, padding='same', activation='relu'),\n",
    "        tf.keras.layers.Conv2DTranspose(32, kernel_size=3, strides=2, padding='same', activation='relu'),\n",
    "        tf.keras.layers.Conv2D(1, kernel_size=3, activation='sigmoid', padding='same')\n",
    "    ]\n",
    "\n",
    "\n",
    "  #2. call method (forward computation)\n",
    "  def call(self, img, training=False):\n",
    "    x = img\n",
    "    for layer in self.layers_list:\n",
    "      x = layer(x)\n",
    "\n",
    "    return x\n",
    "\n",
    "    "
   ]
  },
  {
   "attachments": {},
   "cell_type": "markdown",
   "metadata": {},
   "source": [
    "## The denoising autoencoder"
   ]
  },
  {
   "cell_type": "code",
   "execution_count": 15,
   "metadata": {},
   "outputs": [],
   "source": [
    "class Denoiser(tf.keras.Model):\n",
    "  \n",
    "    #1 Constructor\n",
    "    def __init__(self):\n",
    "        super(Denoiser, self).__init__()\n",
    "        #inherit functionality from parent class\n",
    "\n",
    "        self.optimizer = tf.keras.optimizers.Adam(learning_rate=1e-3)\n",
    "        self.loss = tf.keras.losses.MeanSquaredError()\n",
    "        self.metrics_list = [\n",
    "                            tf.keras.metrics.MeanSquaredError(name=\"loss\"),\n",
    "                            tf.keras.metrics.Accuracy(name=\"acc\")\n",
    "                           ]\n",
    "\n",
    "\n",
    "        self.encoder = Encoder()\n",
    "        self.decoder = Decoder()\n",
    "\n",
    "    #2. call method (forward computation)\n",
    "    def call(self, img, training=False):\n",
    "        encoded = self.encoder(img)\n",
    "        #print(\"shape of encoded images\", encoded.shape.as_list())\n",
    "        decoded = self.decoder(encoded)\n",
    "        return decoded\n",
    "\n",
    "    #3. metrics property\n",
    "    @property\n",
    "    def metrics(self):\n",
    "        # return a list with all metrics in the model\n",
    "        return self.metrics_list\n",
    "\n",
    "\n",
    "    #4 reset all metrics object\n",
    "    def reset_metrics(self):\n",
    "        for metric in self.metrics:\n",
    "            metric.reset_states()\n",
    "\n",
    "    #5 training step method\n",
    "    def train_step(self, data):\n",
    "        # update the state of the metrics according to loss\n",
    "        # return a dictionary with metrics name as keys an metric results\n",
    "        #self.plot(data)\n",
    "        img, label = data\n",
    "        #print(img.shape.as_list())\n",
    "        with tf.GradientTape() as tape:\n",
    "            output = self(img, training=True)\n",
    "            loss = self.loss(label, output)\n",
    "        \n",
    "    \n",
    "        # crashes the training process\n",
    "        #example = (img[0],output[0])\n",
    "        #self.plot(example)\n",
    "\n",
    "        gradients = tape.gradient(loss, self.trainable_variables)\n",
    "\n",
    "        self.optimizer.apply_gradients(zip(gradients, self.trainable_variables))\n",
    "\n",
    "        #update the state of the metrics according to loss\n",
    "        #self.metrics[0].update_state(label, output)\n",
    "        for metric in self.metrics:\n",
    "            metric.update_state(label, output)\n",
    "\n",
    "        # return a dictionary with metric names as keys and metric results as values\n",
    "        return ((img[:10], output[:10]),{m.name : m.result() for m in self.metrics})\n",
    "    \n",
    "\n",
    "    #6. test step method\n",
    "    def test_step(self, data):\n",
    "        img, label = data\n",
    "        output = self(img, training=False)\n",
    "        loss = self.loss(label, output)\n",
    "        #self.metrics[0].update_state(label, output)\n",
    "        for metric in self.metrics:\n",
    "            metric.update_state(label, output)\n",
    "\n",
    "        return {\"val_\"+m.name : m.result() for m in self.metrics}\n",
    "\n",
    "\n",
    "    "
   ]
  },
  {
   "attachments": {},
   "cell_type": "markdown",
   "metadata": {},
   "source": [
    "# Summary writer"
   ]
  },
  {
   "cell_type": "code",
   "execution_count": 16,
   "metadata": {},
   "outputs": [],
   "source": [
    "current_time = datetime.now().strftime(\"%Y%m%d-%H%M%S\")\n",
    "train_log_path = f\"logs/train/\"\n",
    "val_log_path = f\"logs/val/\"\n",
    "train_summary_writer = tf.summary.create_file_writer(train_log_path + current_time)\n",
    "val_summary_writer = tf.summary.create_file_writer(val_log_path + current_time)"
   ]
  },
  {
   "attachments": {},
   "cell_type": "markdown",
   "metadata": {},
   "source": [
    "# Training loop"
   ]
  },
  {
   "cell_type": "code",
   "execution_count": 45,
   "metadata": {},
   "outputs": [],
   "source": [
    "import tqdm\n",
    "def training_loop(model, train_ds, val_ds, epochs, train_summary_writer, val_summary_writer, save_path):\n",
    "  #1. iterate over epochs\n",
    "  for e in range(epochs):\n",
    "    #2. train steps on all batchs in the training data\n",
    "    for data in tqdm.tqdm(train_ds):\n",
    "      ret,metrics = model.train_step(data)\n",
    "    # 3. log and print data metrics\n",
    "    with train_summary_writer.as_default():\n",
    "      for metric in model.metrics:\n",
    "        print(metric)\n",
    "        tf.summary.scalar(f\"{metric.name}\", metric.result(), step=e)\n",
    "\n",
    "    # print the metrics\n",
    "    print([f\"{key}: {value.numpy()}\" for (key, value) in metrics.items()])\n",
    "\n",
    "    # print 10 inputs and their prediction for each epoch\n",
    "    img_list, output_list = ret\n",
    "\n",
    "    n = len(img_list)\n",
    "    plt.figure(figsize=(20, 5))\n",
    "    for i in range(n):\n",
    "      ax = plt.subplot(2,n,i+1)\n",
    "      plt.title(\"image\") \n",
    "      plt.imshow(tf.squeeze(img_list[i]))\n",
    "    for i in range(n):\n",
    "      ax = plt.subplot(2,n,i+n+1)\n",
    "      plt.title(\"prediction\")\n",
    "      plt.imshow(tf.squeeze(output_list[i]))\n",
    "      plt.gray()\n",
    "    plt.show()\n",
    "\n",
    "    #4 reset the metrics\n",
    "    model.reset_metrics()\n",
    "\n",
    "    #5. evaluate on validation data\n",
    "    for data in val_ds:\n",
    "      metrics = model.test_step(data)\n",
    "    \n",
    "    #6. log validation metrics\n",
    "    with val_summary_writer.as_default():\n",
    "      for metric in model.metrics:\n",
    "        print(metric)\n",
    "        tf.summary.scalar(f\"{metric.name}\", metric.result(), step=e)\n",
    "\n",
    "    # print the metrics\n",
    "    print([f\"{key}: {value.numpy()}\" for (key, value) in metrics.items()])\n",
    "    \n",
    "    #7. reset metric objects\n",
    "    model.reset_metrics()\n",
    "\n",
    "  #8 save model weights\n",
    "  model.save_weights(save_path)"
   ]
  },
  {
   "cell_type": "markdown",
   "metadata": {},
   "source": [
    "# Model training"
   ]
  },
  {
   "cell_type": "code",
   "execution_count": 46,
   "metadata": {},
   "outputs": [
    {
     "name": "stderr",
     "output_type": "stream",
     "text": [
      "100%|██████████| 1875/1875 [00:40<00:00, 46.80it/s]\n"
     ]
    },
    {
     "name": "stdout",
     "output_type": "stream",
     "text": [
      "MeanSquaredError(name=loss,dtype=float32)\n",
      "Accuracy(name=acc,dtype=float32)\n",
      "['loss: 0.9318349957466125', 'acc: 0.0']\n"
     ]
    },
    {
     "data": {
      "image/png": "[encoded data removed]",
      "text/plain": [
       "<Figure size 2000x500 with 20 Axes>"
      ]
     },
     "metadata": {},
     "output_type": "display_data"
    },
    {
     "name": "stdout",
     "output_type": "stream",
     "text": [
      "MeanSquaredError(name=loss,dtype=float32)\n",
      "Accuracy(name=acc,dtype=float32)\n",
      "['val_loss: 0.9242910146713257', 'val_acc: 0.0']\n"
     ]
    },
    {
     "name": "stderr",
     "output_type": "stream",
     "text": [
      " 49%|████▉     | 915/1875 [00:19<00:20, 46.96it/s]\n"
     ]
    },
    {
     "ename": "KeyboardInterrupt",
     "evalue": "",
     "output_type": "error",
     "traceback": [
      "\u001b[0;31m---------------------------------------------------------------------------\u001b[0m",
      "\u001b[0;31mKeyboardInterrupt\u001b[0m                         Traceback (most recent call last)",
      "Cell \u001b[0;32mIn [46], line 10\u001b[0m\n\u001b[1;32m      7\u001b[0m \u001b[39m#2. choose a path to save the weights\u001b[39;00m\n\u001b[1;32m      8\u001b[0m save_path \u001b[39m=\u001b[39m \u001b[39m\"\u001b[39m\u001b[39mtrained_model\u001b[39m\u001b[39m\"\u001b[39m\n\u001b[0;32m---> 10\u001b[0m training_loop(model, train, val, epochs, train_summary_writer, val_summary_writer, save_path)\n",
      "Cell \u001b[0;32mIn [45], line 7\u001b[0m, in \u001b[0;36mtraining_loop\u001b[0;34m(model, train_ds, val_ds, epochs, train_summary_writer, val_summary_writer, save_path)\u001b[0m\n\u001b[1;32m      4\u001b[0m \u001b[39mfor\u001b[39;00m e \u001b[39min\u001b[39;00m \u001b[39mrange\u001b[39m(epochs):\n\u001b[1;32m      5\u001b[0m   \u001b[39m#2. train steps on all batchs in the training data\u001b[39;00m\n\u001b[1;32m      6\u001b[0m   \u001b[39mfor\u001b[39;00m data \u001b[39min\u001b[39;00m tqdm\u001b[39m.\u001b[39mtqdm(train_ds):\n\u001b[0;32m----> 7\u001b[0m     ret,metrics \u001b[39m=\u001b[39m model\u001b[39m.\u001b[39;49mtrain_step(data)\n\u001b[1;32m      8\u001b[0m   \u001b[39m# 3. log and print data metrics\u001b[39;00m\n\u001b[1;32m      9\u001b[0m   \u001b[39mwith\u001b[39;00m train_summary_writer\u001b[39m.\u001b[39mas_default():\n",
      "Cell \u001b[0;32mIn [15], line 54\u001b[0m, in \u001b[0;36mDenoiser.train_step\u001b[0;34m(self, data)\u001b[0m\n\u001b[1;32m     47\u001b[0m     loss \u001b[39m=\u001b[39m \u001b[39mself\u001b[39m\u001b[39m.\u001b[39mloss(label, output)\n\u001b[1;32m     50\u001b[0m \u001b[39m# crashes the training process\u001b[39;00m\n\u001b[1;32m     51\u001b[0m \u001b[39m#example = (img[0],output[0])\u001b[39;00m\n\u001b[1;32m     52\u001b[0m \u001b[39m#self.plot(example)\u001b[39;00m\n\u001b[0;32m---> 54\u001b[0m gradients \u001b[39m=\u001b[39m tape\u001b[39m.\u001b[39;49mgradient(loss, \u001b[39mself\u001b[39;49m\u001b[39m.\u001b[39;49mtrainable_variables)\n\u001b[1;32m     56\u001b[0m \u001b[39mself\u001b[39m\u001b[39m.\u001b[39moptimizer\u001b[39m.\u001b[39mapply_gradients(\u001b[39mzip\u001b[39m(gradients, \u001b[39mself\u001b[39m\u001b[39m.\u001b[39mtrainable_variables))\n\u001b[1;32m     58\u001b[0m \u001b[39m#update the state of the metrics according to loss\u001b[39;00m\n\u001b[1;32m     59\u001b[0m \u001b[39m#self.metrics[0].update_state(label, output)\u001b[39;00m\n",
      "File \u001b[0;32m~/miniforge3/envs/iannwtf/lib/python3.10/site-packages/tensorflow/python/eager/backprop.py:1113\u001b[0m, in \u001b[0;36mGradientTape.gradient\u001b[0;34m(self, target, sources, output_gradients, unconnected_gradients)\u001b[0m\n\u001b[1;32m   1107\u001b[0m   output_gradients \u001b[39m=\u001b[39m (\n\u001b[1;32m   1108\u001b[0m       composite_tensor_gradient\u001b[39m.\u001b[39mget_flat_tensors_for_gradients(\n\u001b[1;32m   1109\u001b[0m           output_gradients))\n\u001b[1;32m   1110\u001b[0m   output_gradients \u001b[39m=\u001b[39m [\u001b[39mNone\u001b[39;00m \u001b[39mif\u001b[39;00m x \u001b[39mis\u001b[39;00m \u001b[39mNone\u001b[39;00m \u001b[39melse\u001b[39;00m ops\u001b[39m.\u001b[39mconvert_to_tensor(x)\n\u001b[1;32m   1111\u001b[0m                       \u001b[39mfor\u001b[39;00m x \u001b[39min\u001b[39;00m output_gradients]\n\u001b[0;32m-> 1113\u001b[0m flat_grad \u001b[39m=\u001b[39m imperative_grad\u001b[39m.\u001b[39;49mimperative_grad(\n\u001b[1;32m   1114\u001b[0m     \u001b[39mself\u001b[39;49m\u001b[39m.\u001b[39;49m_tape,\n\u001b[1;32m   1115\u001b[0m     flat_targets,\n\u001b[1;32m   1116\u001b[0m     flat_sources,\n\u001b[1;32m   1117\u001b[0m     output_gradients\u001b[39m=\u001b[39;49moutput_gradients,\n\u001b[1;32m   1118\u001b[0m     sources_raw\u001b[39m=\u001b[39;49mflat_sources_raw,\n\u001b[1;32m   1119\u001b[0m     unconnected_gradients\u001b[39m=\u001b[39;49munconnected_gradients)\n\u001b[1;32m   1121\u001b[0m \u001b[39mif\u001b[39;00m \u001b[39mnot\u001b[39;00m \u001b[39mself\u001b[39m\u001b[39m.\u001b[39m_persistent:\n\u001b[1;32m   1122\u001b[0m   \u001b[39m# Keep track of watched variables before setting tape to None\u001b[39;00m\n\u001b[1;32m   1123\u001b[0m   \u001b[39mself\u001b[39m\u001b[39m.\u001b[39m_watched_variables \u001b[39m=\u001b[39m \u001b[39mself\u001b[39m\u001b[39m.\u001b[39m_tape\u001b[39m.\u001b[39mwatched_variables()\n",
      "File \u001b[0;32m~/miniforge3/envs/iannwtf/lib/python3.10/site-packages/tensorflow/python/eager/imperative_grad.py:67\u001b[0m, in \u001b[0;36mimperative_grad\u001b[0;34m(tape, target, sources, output_gradients, sources_raw, unconnected_gradients)\u001b[0m\n\u001b[1;32m     63\u001b[0m \u001b[39mexcept\u001b[39;00m \u001b[39mValueError\u001b[39;00m:\n\u001b[1;32m     64\u001b[0m   \u001b[39mraise\u001b[39;00m \u001b[39mValueError\u001b[39;00m(\n\u001b[1;32m     65\u001b[0m       \u001b[39m\"\u001b[39m\u001b[39mUnknown value for unconnected_gradients: \u001b[39m\u001b[39m%r\u001b[39;00m\u001b[39m\"\u001b[39m \u001b[39m%\u001b[39m unconnected_gradients)\n\u001b[0;32m---> 67\u001b[0m \u001b[39mreturn\u001b[39;00m pywrap_tfe\u001b[39m.\u001b[39;49mTFE_Py_TapeGradient(\n\u001b[1;32m     68\u001b[0m     tape\u001b[39m.\u001b[39;49m_tape,  \u001b[39m# pylint: disable=protected-access\u001b[39;49;00m\n\u001b[1;32m     69\u001b[0m     target,\n\u001b[1;32m     70\u001b[0m     sources,\n\u001b[1;32m     71\u001b[0m     output_gradients,\n\u001b[1;32m     72\u001b[0m     sources_raw,\n\u001b[1;32m     73\u001b[0m     compat\u001b[39m.\u001b[39;49mas_str(unconnected_gradients\u001b[39m.\u001b[39;49mvalue))\n",
      "File \u001b[0;32m~/miniforge3/envs/iannwtf/lib/python3.10/site-packages/tensorflow/python/eager/backprop.py:160\u001b[0m, in \u001b[0;36m_gradient_function\u001b[0;34m(op_name, attr_tuple, num_inputs, inputs, outputs, out_grads, skip_input_indices, forward_pass_name_scope)\u001b[0m\n\u001b[1;32m    158\u001b[0m     gradient_name_scope \u001b[39m+\u001b[39m\u001b[39m=\u001b[39m forward_pass_name_scope \u001b[39m+\u001b[39m \u001b[39m\"\u001b[39m\u001b[39m/\u001b[39m\u001b[39m\"\u001b[39m\n\u001b[1;32m    159\u001b[0m   \u001b[39mwith\u001b[39;00m ops\u001b[39m.\u001b[39mname_scope(gradient_name_scope):\n\u001b[0;32m--> 160\u001b[0m     \u001b[39mreturn\u001b[39;00m grad_fn(mock_op, \u001b[39m*\u001b[39;49mout_grads)\n\u001b[1;32m    161\u001b[0m \u001b[39melse\u001b[39;00m:\n\u001b[1;32m    162\u001b[0m   \u001b[39mreturn\u001b[39;00m grad_fn(mock_op, \u001b[39m*\u001b[39mout_grads)\n",
      "File \u001b[0;32m~/miniforge3/envs/iannwtf/lib/python3.10/site-packages/tensorflow/python/ops/nn_grad.py:347\u001b[0m, in \u001b[0;36m_BiasAddGrad\u001b[0;34m(op, received_grad)\u001b[0m\n\u001b[1;32m    344\u001b[0m \u001b[39mexcept\u001b[39;00m \u001b[39mValueError\u001b[39;00m:\n\u001b[1;32m    345\u001b[0m   data_format \u001b[39m=\u001b[39m \u001b[39mNone\u001b[39;00m\n\u001b[1;32m    346\u001b[0m \u001b[39mreturn\u001b[39;00m (received_grad,\n\u001b[0;32m--> 347\u001b[0m         gen_nn_ops\u001b[39m.\u001b[39;49mbias_add_grad(\n\u001b[1;32m    348\u001b[0m             out_backprop\u001b[39m=\u001b[39;49mreceived_grad, data_format\u001b[39m=\u001b[39;49mdata_format))\n",
      "File \u001b[0;32m~/miniforge3/envs/iannwtf/lib/python3.10/site-packages/tensorflow/python/ops/gen_nn_ops.py:925\u001b[0m, in \u001b[0;36mbias_add_grad\u001b[0;34m(out_backprop, data_format, name)\u001b[0m\n\u001b[1;32m    923\u001b[0m \u001b[39mif\u001b[39;00m tld\u001b[39m.\u001b[39mis_eager:\n\u001b[1;32m    924\u001b[0m   \u001b[39mtry\u001b[39;00m:\n\u001b[0;32m--> 925\u001b[0m     _result \u001b[39m=\u001b[39m pywrap_tfe\u001b[39m.\u001b[39;49mTFE_Py_FastPathExecute(\n\u001b[1;32m    926\u001b[0m       _ctx, \u001b[39m\"\u001b[39;49m\u001b[39mBiasAddGrad\u001b[39;49m\u001b[39m\"\u001b[39;49m, name, out_backprop, \u001b[39m\"\u001b[39;49m\u001b[39mdata_format\u001b[39;49m\u001b[39m\"\u001b[39;49m, data_format)\n\u001b[1;32m    927\u001b[0m     \u001b[39mreturn\u001b[39;00m _result\n\u001b[1;32m    928\u001b[0m   \u001b[39mexcept\u001b[39;00m _core\u001b[39m.\u001b[39m_NotOkStatusException \u001b[39mas\u001b[39;00m e:\n",
      "\u001b[0;31mKeyboardInterrupt\u001b[0m: "
     ]
    }
   ],
   "source": [
    "#1. instantiate model\n",
    "model = Denoiser()\n",
    "#model(tf.keras.Input((28,28,1)))\n",
    "#model.summary()\n",
    "epochs=10\n",
    "\n",
    "#2. choose a path to save the weights\n",
    "save_path = \"trained_model\"\n",
    "\n",
    "training_loop(model, train, val, epochs, train_summary_writer, val_summary_writer, save_path)"
   ]
  },
  {
   "cell_type": "code",
   "execution_count": 67,
   "metadata": {},
   "outputs": [
    {
     "name": "stderr",
     "output_type": "stream",
     "text": [
      "2023-01-08 11:50:33.071610: W tensorflow/core/kernels/data/cache_dataset_ops.cc:856] The calling iterator did not fully read the dataset being cached. In order to avoid unexpected truncation of the dataset, the partially cached contents of the dataset  will be discarded. This can happen if you have an input pipeline similar to `dataset.cache().take(k).repeat()`. You should use `dataset.take(k).cache().repeat()` instead.\n",
      "2023-01-08 11:50:33.071652: W tensorflow/core/kernels/data/cache_dataset_ops.cc:856] The calling iterator did not fully read the dataset being cached. In order to avoid unexpected truncation of the dataset, the partially cached contents of the dataset  will be discarded. This can happen if you have an input pipeline similar to `dataset.cache().take(k).repeat()`. You should use `dataset.take(k).cache().repeat()` instead.\n",
      "2023-01-08 11:50:33.071823: W tensorflow/core/kernels/data/cache_dataset_ops.cc:856] The calling iterator did not fully read the dataset being cached. In order to avoid unexpected truncation of the dataset, the partially cached contents of the dataset  will be discarded. This can happen if you have an input pipeline similar to `dataset.cache().take(k).repeat()`. You should use `dataset.take(k).cache().repeat()` instead.\n"
     ]
    }
   ],
   "source": [
    "for img, noisy in train.take(1):\n",
    "    img.shape"
   ]
  },
  {
   "attachments": {},
   "cell_type": "markdown",
   "metadata": {},
   "source": [
    "# Testing"
   ]
  },
  {
   "cell_type": "code",
   "execution_count": 248,
   "metadata": {},
   "outputs": [
    {
     "data": {
      "text/plain": [
       "(None, 14, 14, 32)"
      ]
     },
     "execution_count": 248,
     "metadata": {},
     "output_type": "execute_result"
    }
   ],
   "source": [
    "model = tf.keras.Sequential()\n",
    "model.add(tf.keras.layers.Conv2D(32, kernel_size=3, strides=2, padding=\"same\", input_shape=(28,28,1)))\n",
    "model.output_shape"
   ]
  },
  {
   "cell_type": "code",
   "execution_count": 249,
   "metadata": {},
   "outputs": [
    {
     "data": {
      "text/plain": [
       "(None, 7, 7, 32)"
      ]
     },
     "execution_count": 249,
     "metadata": {},
     "output_type": "execute_result"
    }
   ],
   "source": [
    "model.add(tf.keras.layers.Conv2D(32, kernel_size=3, strides=2, padding=\"same\"))\n",
    "model.output_shape"
   ]
  },
  {
   "cell_type": "code",
   "execution_count": 250,
   "metadata": {},
   "outputs": [
    {
     "data": {
      "text/plain": [
       "(None, 1568)"
      ]
     },
     "execution_count": 250,
     "metadata": {},
     "output_type": "execute_result"
    }
   ],
   "source": [
    "model.add(tf.keras.layers.Flatten())\n",
    "model.output_shape"
   ]
  },
  {
   "cell_type": "code",
   "execution_count": 251,
   "metadata": {},
   "outputs": [
    {
     "data": {
      "text/plain": [
       "(None, 10)"
      ]
     },
     "execution_count": 251,
     "metadata": {},
     "output_type": "execute_result"
    }
   ],
   "source": [
    "model.add(tf.keras.layers.Dense(10, activation='sigmoid'))\n",
    "model.output_shape"
   ]
  },
  {
   "cell_type": "code",
   "execution_count": 252,
   "metadata": {},
   "outputs": [
    {
     "data": {
      "text/plain": [
       "(None, 1568)"
      ]
     },
     "execution_count": 252,
     "metadata": {},
     "output_type": "execute_result"
    }
   ],
   "source": [
    "model.add(tf.keras.layers.Dense(1568, activation='sigmoid'))\n",
    "model.output_shape"
   ]
  },
  {
   "cell_type": "code",
   "execution_count": 254,
   "metadata": {},
   "outputs": [
    {
     "data": {
      "text/plain": [
       "(None, 7, 7, 32)"
      ]
     },
     "execution_count": 254,
     "metadata": {},
     "output_type": "execute_result"
    }
   ],
   "source": [
    "model.add(tf.keras.layers.Reshape((7,7,32)))\n",
    "model.output_shape"
   ]
  },
  {
   "cell_type": "code",
   "execution_count": 255,
   "metadata": {},
   "outputs": [
    {
     "data": {
      "text/plain": [
       "(None, 14, 14, 32)"
      ]
     },
     "execution_count": 255,
     "metadata": {},
     "output_type": "execute_result"
    }
   ],
   "source": [
    "model.add(tf.keras.layers.Conv2DTranspose(32, kernel_size=3, strides=2, padding='same', activation='relu'))\n",
    "model.output_shape"
   ]
  },
  {
   "cell_type": "code",
   "execution_count": 256,
   "metadata": {},
   "outputs": [
    {
     "data": {
      "text/plain": [
       "(None, 28, 28, 32)"
      ]
     },
     "execution_count": 256,
     "metadata": {},
     "output_type": "execute_result"
    }
   ],
   "source": [
    "model.add(tf.keras.layers.Conv2DTranspose(32, kernel_size=3, strides=2, padding='same', activation='relu'))\n",
    "model.output_shape"
   ]
  },
  {
   "cell_type": "code",
   "execution_count": 257,
   "metadata": {},
   "outputs": [
    {
     "data": {
      "text/plain": [
       "(None, 28, 28, 1)"
      ]
     },
     "execution_count": 257,
     "metadata": {},
     "output_type": "execute_result"
    }
   ],
   "source": [
    "model.add(tf.keras.layers.Conv2D(1, kernel_size=3, activation='sigmoid', padding='same'))\n",
    "model.output_shape"
   ]
  },
  {
   "cell_type": "code",
   "execution_count": null,
   "metadata": {},
   "outputs": [],
   "source": []
  }
 ],
 "metadata": {
  "kernelspec": {
   "display_name": "iannwtf",
   "language": "python",
   "name": "python3"
  },
  "language_info": {
   "codemirror_mode": {
    "name": "ipython",
    "version": 3
   },
   "file_extension": ".py",
   "mimetype": "text/x-python",
   "name": "python",
   "nbconvert_exporter": "python",
   "pygments_lexer": "ipython3",
   "version": "3.10.6"
  },
  "orig_nbformat": 4,
  "vscode": {
   "interpreter": {
    "hash": "a3449bbb043929c6f13b514689ff91c66257e0787e2d8bb0eba8270d3f40eacf"
   }
  }
 },
 "nbformat": 4,
 "nbformat_minor": 2
}
