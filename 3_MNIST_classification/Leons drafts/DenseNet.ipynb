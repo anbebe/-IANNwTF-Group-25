{
 "cells": [
  {
   "cell_type": "code",
   "execution_count": 13,
   "metadata": {},
   "outputs": [],
   "source": [
    "import tensorflow_datasets as tfds\n",
    "import tensorflow as tf\n",
    "from tensorflow.keras.layers import Dense\n",
    "import numpy as np\n",
    "import matplotlib.pyplot as plt"
   ]
  },
  {
   "cell_type": "code",
   "execution_count": 4,
   "metadata": {},
   "outputs": [
    {
     "name": "stderr",
     "output_type": "stream",
     "text": [
      "2022-11-18 17:57:00.369090: W tensorflow/core/platform/cloud/google_auth_provider.cc:184] All attempts to get a Google authentication bearer token failed, returning an empty token. Retrieving token from files failed with \"NOT_FOUND: Could not locate the credentials file.\". Retrieving token from GCE failed with \"FAILED_PRECONDITION: Error executing an HTTP request: libcurl code 6 meaning 'Couldn't resolve host name', error details: Could not resolve host: metadata\".\n"
     ]
    },
    {
     "name": "stdout",
     "output_type": "stream",
     "text": [
      "Downloading and preparing dataset 11.06 MiB (download: 11.06 MiB, generated: 21.00 MiB, total: 32.06 MiB) to /Users/leonackermann/tensorflow_datasets/mnist/3.0.1...\n"
     ]
    },
    {
     "name": "stderr",
     "output_type": "stream",
     "text": [
      "Dl Completed...: 100%|██████████| 4/4 [00:09<00:00,  2.33s/ file]"
     ]
    },
    {
     "name": "stdout",
     "output_type": "stream",
     "text": [
      "Dataset mnist downloaded and prepared to /Users/leonackermann/tensorflow_datasets/mnist/3.0.1. Subsequent calls will reuse this data.\n",
      "Metal device set to: Apple M1 Pro\n",
      "\n",
      "systemMemory: 32.00 GB\n",
      "maxCacheSize: 10.67 GB\n",
      "\n"
     ]
    },
    {
     "name": "stderr",
     "output_type": "stream",
     "text": [
      "\n",
      "2022-11-18 17:57:12.761358: I tensorflow/core/common_runtime/pluggable_device/pluggable_device_factory.cc:306] Could not identify NUMA node of platform GPU ID 0, defaulting to 0. Your kernel may not have been built with NUMA support.\n",
      "2022-11-18 17:57:12.761820: I tensorflow/core/common_runtime/pluggable_device/pluggable_device_factory.cc:272] Created TensorFlow device (/job:localhost/replica:0/task:0/device:GPU:0 with 0 MB memory) -> physical PluggableDevice (device: 0, name: METAL, pci bus id: <undefined>)\n"
     ]
    }
   ],
   "source": [
    "(train_ds, test_ds), ds_info = tfds.load('mnist', split=['train', 'test'], as_supervised=True, with_info=True)"
   ]
  },
  {
   "cell_type": "code",
   "execution_count": 5,
   "metadata": {},
   "outputs": [],
   "source": [
    "# 2.2 - set up data pipiline\n",
    "def prepare_mnist_data(mnist):\n",
    "    # map from uint8 to tf.float\n",
    "    mnist = mnist.map(lambda img, target: (tf.cast(img, tf.float32), target))\n",
    "\n",
    "    # flatten input\n",
    "    mnist = mnist.map(lambda img, target: (tf.reshape(img, (-1, )), target))\n",
    "    \n",
    "    # normalize input to gaussian distribution or divide by 128\n",
    "    mnist = mnist.map(lambda img, target: (((img/128)-1), target))\n",
    "\n",
    "    # encode labels as one hot vector\n",
    "    mnist = mnist.map(lambda img, target: (img, tf.one_hot(target, depth=10)))\n",
    "\n",
    "    # keep the progess in memory\n",
    "    mnist = mnist.cache()\n",
    "    mnist = mnist.shuffle(1000) \n",
    "    mnist = mnist.batch(32) # 32 image in one batch\n",
    "    mnist = mnist.prefetch(20) # prepare 20 next datapoints \n",
    "\n",
    "    return mnist"
   ]
  },
  {
   "cell_type": "code",
   "execution_count": 6,
   "metadata": {},
   "outputs": [],
   "source": [
    "train_dataset = train_ds.apply(prepare_mnist_data)\n",
    "test_dataset = test_ds.apply(prepare_mnist_data)"
   ]
  },
  {
   "cell_type": "code",
   "execution_count": 7,
   "metadata": {},
   "outputs": [],
   "source": [
    "# 2.3 - build network\n",
    "class MyModel(tf.keras.Model):\n",
    "    def __init__(self) -> None:\n",
    "        super(MyModel, self).__init__()\n",
    "        self.dense1 = tf.keras.layers.Dense(256, activation=tf.nn.relu)\n",
    "        self.dense2 = tf.keras.layers.Dense(256, activation=tf.nn.relu)\n",
    "        self.out = tf.keras.layers.Dense(10, activation=tf.nn.softmax)\n",
    "\n",
    "    @tf.function\n",
    "    def call(self, inputs):\n",
    "        x = self.dense1(inputs)\n",
    "        x = self.dense2(x)\n",
    "        x = self.out(x)\n",
    "        return x"
   ]
  },
  {
   "cell_type": "code",
   "execution_count": 8,
   "metadata": {},
   "outputs": [],
   "source": [
    "# 2.4 - training the network\n",
    "def train_step(model, input, target, loss_function, optimizer):\n",
    "\n",
    "    # loss object and optimizer and are instances of respective tensorflow classes \n",
    "    with tf.GradientTape() as tape:\n",
    "        prediction = model(input)\n",
    "        loss = loss_function(target, prediction)\n",
    "    gradients = tape.gradient(loss, model.trainable_variables) # all variables with trainable = True\n",
    "    optimizer.apply_gradients(zip(gradients, model.trainable_variables)) # updating weights with optimizer\n",
    "    return loss\n",
    "\n",
    "# 2.4.1 - testing the model\n",
    "def test(model, test_data, loss_function):\n",
    "\n",
    "    test_accuracy_aggregator = []\n",
    "    test_loss_aggregator = [] # continuous\n",
    "\n",
    "    # input is batch of 32 examples\n",
    "    for (input, target) in test_data:\n",
    "        prediction = model(input)\n",
    "        sample_test_loss = loss_function(target, prediction)\n",
    "        sample_test_accuracy = np.argmax(target, axis=1) == np.argmax(prediction, axis=1)\n",
    "        sample_test_accuracy = np.mean(sample_test_accuracy)\n",
    "        test_loss_aggregator.append(sample_test_loss.numpy())\n",
    "        test_accuracy_aggregator.append(np.mean(sample_test_accuracy))\n",
    "\n",
    "    test_loss = tf.reduce_mean(test_loss_aggregator)\n",
    "    test_accuracy = tf.reduce_mean(test_accuracy_aggregator)\n",
    "\n",
    "    return test_loss, test_accuracy"
   ]
  },
  {
   "cell_type": "code",
   "execution_count": 14,
   "metadata": {},
   "outputs": [],
   "source": [
    "# 2.5 - visualization\n",
    "def visualization ( train_losses , test_losses , test_accuracies ):\n",
    "    \"\"\"\n",
    "    Visualizes accuracy and loss for training and test data using the mean of each epoch. \n",
    "    Loss is displayed in a regular line , accuracy in a dotted line. \n",
    "    Training data is displayed in blue , test data in red .\n",
    "\n",
    "    Parameters\n",
    "    ----------\n",
    "    train_losses : numpy . ndarray\n",
    "    training losses\n",
    "    train_accuracies : numpy . ndarray\n",
    "    training accuracies\n",
    "    test_losses : numpy . ndarray\n",
    "    test losses\n",
    "    test_accuracies : numpy . ndarray\n",
    "    test accuracies\n",
    "    \"\"\"\n",
    "\n",
    "\n",
    "    plt . figure ()\n",
    "    line1 , = plt. plot ( train_losses , \"b-\")\n",
    "    line2 , = plt. plot ( test_losses , \"r-\")\n",
    "    #line3 , = plt. plot ( train_accuracies , \"b:\")\n",
    "    line4 , = plt. plot ( test_accuracies , \"r:\")\n",
    "    plt . xlabel (\" Training steps \")\n",
    "    plt . ylabel (\" Loss / Accuracy \")\n",
    "    plt . legend (( line1 , line2 , line4 ), (\" training loss \", \" testloss \", \" test accuracy \"))\n",
    "    plt . show ()"
   ]
  },
  {
   "cell_type": "code",
   "execution_count": 10,
   "metadata": {},
   "outputs": [
    {
     "name": "stderr",
     "output_type": "stream",
     "text": [
      "2022-11-18 18:10:17.376660: W tensorflow/core/platform/profile_utils/cpu_utils.cc:128] Failed to get CPU frequency: 0 Hz\n",
      "2022-11-18 18:10:17.587628: I tensorflow/core/grappler/optimizers/custom_graph_optimizer_registry.cc:114] Plugin optimizer for device_type GPU is enabled.\n",
      "2022-11-18 18:10:19.631671: I tensorflow/core/grappler/optimizers/custom_graph_optimizer_registry.cc:114] Plugin optimizer for device_type GPU is enabled.\n"
     ]
    },
    {
     "name": "stdout",
     "output_type": "stream",
     "text": [
      "Epoch: 0 starting with accuracy 0.15724840255591055\n"
     ]
    },
    {
     "name": "stderr",
     "output_type": "stream",
     "text": [
      "2022-11-18 18:10:29.153590: I tensorflow/core/grappler/optimizers/custom_graph_optimizer_registry.cc:114] Plugin optimizer for device_type GPU is enabled.\n",
      "2022-11-18 18:10:29.361034: I tensorflow/core/grappler/optimizers/custom_graph_optimizer_registry.cc:114] Plugin optimizer for device_type GPU is enabled.\n"
     ]
    },
    {
     "name": "stdout",
     "output_type": "stream",
     "text": [
      "Epoch: 1 starting with accuracy 0.8601238019169329\n",
      "Epoch: 2 starting with accuracy 0.889576677316294\n",
      "Epoch: 3 starting with accuracy 0.8995607028753994\n",
      "Epoch: 4 starting with accuracy 0.9047523961661342\n",
      "Epoch: 5 starting with accuracy 0.9123402555910544\n",
      "Epoch: 6 starting with accuracy 0.9153354632587859\n",
      "Epoch: 7 starting with accuracy 0.919029552715655\n",
      "Epoch: 8 starting with accuracy 0.9221246006389776\n",
      "Epoch: 9 starting with accuracy 0.9254193290734825\n"
     ]
    },
    {
     "ename": "TypeError",
     "evalue": "visualization() missing 1 required positional argument: 'test_accuracies'",
     "output_type": "error",
     "traceback": [
      "\u001b[0;31m---------------------------------------------------------------------------\u001b[0m",
      "\u001b[0;31mTypeError\u001b[0m                                 Traceback (most recent call last)",
      "Cell \u001b[0;32mIn [10], line 40\u001b[0m\n\u001b[1;32m     37\u001b[0m     test_losses\u001b[39m.\u001b[39mappend(test_loss)\n\u001b[1;32m     38\u001b[0m     test_accuracies\u001b[39m.\u001b[39mappend(test_accuracy)\n\u001b[0;32m---> 40\u001b[0m visualization(train_losses, test_losses, test_accuracies)\n",
      "\u001b[0;31mTypeError\u001b[0m: visualization() missing 1 required positional argument: 'test_accuracies'"
     ]
    }
   ],
   "source": [
    "# Running the network\n",
    "# Training\n",
    "epochs = 10\n",
    "learning_rate = 0.001\n",
    "\n",
    "model = MyModel()\n",
    "cross_entropy_loss = tf.keras.losses.CategoricalCrossentropy()\n",
    "optimizer = tf.keras.optimizers.SGD(learning_rate)\n",
    "\n",
    "# for visualization\n",
    "train_losses = []\n",
    "test_losses = []\n",
    "test_accuracies = []\n",
    "\n",
    "# test model before training\n",
    "test_loss, test_accuracy = test(model, test_dataset, cross_entropy_loss)\n",
    "test_losses.append(test_loss)\n",
    "test_accuracies.append(test_accuracy)\n",
    "\n",
    "train_loss, _ = test(model, train_dataset, cross_entropy_loss)\n",
    "train_losses.append(train_loss)\n",
    "\n",
    "for epoch in range(epochs):\n",
    "    print(f'Epoch: {str(epoch)} starting with accuracy {test_accuracies[-1]}')\n",
    "\n",
    "    # training \n",
    "    epoch_loss_agg = []\n",
    "    for input, target in train_dataset:\n",
    "        train_loss = train_step(model, input,target, cross_entropy_loss, optimizer)\n",
    "        epoch_loss_agg.append(train_loss)\n",
    "\n",
    "    # track training loss\n",
    "    train_losses.append(tf.reduce_mean(epoch_loss_agg))\n",
    "\n",
    "    # track accuracy and test loss\n",
    "    test_loss, test_accuracy = test(model, test_dataset, cross_entropy_loss)\n",
    "    test_losses.append(test_loss)\n",
    "    test_accuracies.append(test_accuracy)\n",
    "\n",
    "visualization(train_losses, test_losses, test_accuracies)\n",
    "\n",
    "    "
   ]
  },
  {
   "cell_type": "code",
   "execution_count": 15,
   "metadata": {},
   "outputs": [
    {
     "data": {
      "image/png": "[encoded data removed]",
      "text/plain": [
       "<Figure size 640x480 with 1 Axes>"
      ]
     },
     "metadata": {},
     "output_type": "display_data"
    }
   ],
   "source": [
    "visualization(train_losses, test_losses, test_accuracies)\n"
   ]
  }
 ],
 "metadata": {
  "kernelspec": {
   "display_name": "Python 3.10.6 ('iannwtf')",
   "language": "python",
   "name": "python3"
  },
  "language_info": {
   "codemirror_mode": {
    "name": "ipython",
    "version": 3
   },
   "file_extension": ".py",
   "mimetype": "text/x-python",
   "name": "python",
   "nbconvert_exporter": "python",
   "pygments_lexer": "ipython3",
   "version": "3.10.6"
  },
  "orig_nbformat": 4,
  "vscode": {
   "interpreter": {
    "hash": "a3449bbb043929c6f13b514689ff91c66257e0787e2d8bb0eba8270d3f40eacf"
   }
  }
 },
 "nbformat": 4,
 "nbformat_minor": 2
}
